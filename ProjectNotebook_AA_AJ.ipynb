{
  "nbformat": 4,
  "nbformat_minor": 0,
  "metadata": {
    "kernelspec": {
      "display_name": "Python 3",
      "language": "python",
      "name": "python3"
    },
    "language_info": {
      "codemirror_mode": {
        "name": "ipython",
        "version": 3
      },
      "file_extension": ".py",
      "mimetype": "text/x-python",
      "name": "python",
      "nbconvert_exporter": "python",
      "pygments_lexer": "ipython3",
      "version": "3.7.4"
    },
    "colab": {
      "name": "ProjectNotebook_AA_AJ.ipynb",
      "provenance": [],
      "collapsed_sections": [
        "zvhiZ_ggnV9p",
        "wlUa3zMeyW4D",
        "NeDCCWCU1kqv",
        "LSgnPt7_ya4H",
        "bYeQNM0vsMKo",
        "_guuIzZ5JQCj",
        "Wb6cD88oHQ6j",
        "kK774SCrmEGr",
        "qJbmeTGOkUgH",
        "TAIgjEOnmQ7f",
        "7QlcmfEPns4s",
        "lQIaCuX1JKPU",
        "xZ3AfzUsHiZp",
        "eiB-5sYPHts9",
        "i8sC08oy8ekq",
        "iMPtBlf6nyZT",
        "jGCPqYzpvBH4",
        "0GSl1XvO1rzD",
        "8dds6CLe3Lvx",
        "D5ycJoOR9WKO",
        "gSbsyErZ8yBF",
        "OD6-nYm_sxAp",
        "owqeU15hwZwk",
        "MXExoVnG2TXW",
        "RbSqFpBx2Ya5",
        "0xQ32CJF2eN8",
        "_SjW0eONyIK-",
        "w1KRnnI_z6Dm",
        "uSiUChP06b1F",
        "pVhTI-5Z01yl",
        "4m9j6vtQ_cfV",
        "GQx8Nbu3BUUM",
        "NYBsBShX_j-i",
        "edby_shErorX",
        "YtjtSV5D_xOc",
        "F9q_aQ0Sl-1V",
        "yeXmezNhnGq_",
        "EEQympLEGyiY",
        "Cir5o5Do_h-b"
      ]
    },
    "widgets": {
      "application/vnd.jupyter.widget-state+json": {
        "03f7b8b1361e4a84a2cdd03b2c3fb6bc": {
          "model_module": "@jupyter-widgets/controls",
          "model_name": "HBoxModel",
          "state": {
            "_view_name": "HBoxView",
            "_dom_classes": [],
            "_model_name": "HBoxModel",
            "_view_module": "@jupyter-widgets/controls",
            "_model_module_version": "1.5.0",
            "_view_count": null,
            "_view_module_version": "1.5.0",
            "box_style": "",
            "layout": "IPY_MODEL_100b35de3b7e4f52b004719f65ec1310",
            "_model_module": "@jupyter-widgets/controls",
            "children": [
              "IPY_MODEL_d15f2e5799574b60bf0feb5234b370ca",
              "IPY_MODEL_a2c9260827c14ccf816d1aaa793bb724"
            ]
          }
        },
        "100b35de3b7e4f52b004719f65ec1310": {
          "model_module": "@jupyter-widgets/base",
          "model_name": "LayoutModel",
          "state": {
            "_view_name": "LayoutView",
            "grid_template_rows": null,
            "right": null,
            "justify_content": null,
            "_view_module": "@jupyter-widgets/base",
            "overflow": null,
            "_model_module_version": "1.2.0",
            "_view_count": null,
            "flex_flow": null,
            "width": null,
            "min_width": null,
            "border": null,
            "align_items": null,
            "bottom": null,
            "_model_module": "@jupyter-widgets/base",
            "top": null,
            "grid_column": null,
            "overflow_y": null,
            "overflow_x": null,
            "grid_auto_flow": null,
            "grid_area": null,
            "grid_template_columns": null,
            "flex": null,
            "_model_name": "LayoutModel",
            "justify_items": null,
            "grid_row": null,
            "max_height": null,
            "align_content": null,
            "visibility": null,
            "align_self": null,
            "height": null,
            "min_height": null,
            "padding": null,
            "grid_auto_rows": null,
            "grid_gap": null,
            "max_width": null,
            "order": null,
            "_view_module_version": "1.2.0",
            "grid_template_areas": null,
            "object_position": null,
            "object_fit": null,
            "grid_auto_columns": null,
            "margin": null,
            "display": null,
            "left": null
          }
        },
        "d15f2e5799574b60bf0feb5234b370ca": {
          "model_module": "@jupyter-widgets/controls",
          "model_name": "FloatProgressModel",
          "state": {
            "_view_name": "ProgressView",
            "style": "IPY_MODEL_aae62dd6aedc4841b0c023b4c890e2bb",
            "_dom_classes": [],
            "description": "Downloading: 100%",
            "_model_name": "FloatProgressModel",
            "bar_style": "success",
            "max": 442,
            "_view_module": "@jupyter-widgets/controls",
            "_model_module_version": "1.5.0",
            "value": 442,
            "_view_count": null,
            "_view_module_version": "1.5.0",
            "orientation": "horizontal",
            "min": 0,
            "description_tooltip": null,
            "_model_module": "@jupyter-widgets/controls",
            "layout": "IPY_MODEL_87112dc1a13c41ecb4e4cf4ace2f040e"
          }
        },
        "a2c9260827c14ccf816d1aaa793bb724": {
          "model_module": "@jupyter-widgets/controls",
          "model_name": "HTMLModel",
          "state": {
            "_view_name": "HTMLView",
            "style": "IPY_MODEL_7304febeaac248af85c81685ad8ea5ad",
            "_dom_classes": [],
            "description": "",
            "_model_name": "HTMLModel",
            "placeholder": "​",
            "_view_module": "@jupyter-widgets/controls",
            "_model_module_version": "1.5.0",
            "value": " 442/442 [00:08&lt;00:00, 51.8B/s]",
            "_view_count": null,
            "_view_module_version": "1.5.0",
            "description_tooltip": null,
            "_model_module": "@jupyter-widgets/controls",
            "layout": "IPY_MODEL_7ebd79548dea4d96b803ac13dd8a7a32"
          }
        },
        "aae62dd6aedc4841b0c023b4c890e2bb": {
          "model_module": "@jupyter-widgets/controls",
          "model_name": "ProgressStyleModel",
          "state": {
            "_view_name": "StyleView",
            "_model_name": "ProgressStyleModel",
            "description_width": "initial",
            "_view_module": "@jupyter-widgets/base",
            "_model_module_version": "1.5.0",
            "_view_count": null,
            "_view_module_version": "1.2.0",
            "bar_color": null,
            "_model_module": "@jupyter-widgets/controls"
          }
        },
        "87112dc1a13c41ecb4e4cf4ace2f040e": {
          "model_module": "@jupyter-widgets/base",
          "model_name": "LayoutModel",
          "state": {
            "_view_name": "LayoutView",
            "grid_template_rows": null,
            "right": null,
            "justify_content": null,
            "_view_module": "@jupyter-widgets/base",
            "overflow": null,
            "_model_module_version": "1.2.0",
            "_view_count": null,
            "flex_flow": null,
            "width": null,
            "min_width": null,
            "border": null,
            "align_items": null,
            "bottom": null,
            "_model_module": "@jupyter-widgets/base",
            "top": null,
            "grid_column": null,
            "overflow_y": null,
            "overflow_x": null,
            "grid_auto_flow": null,
            "grid_area": null,
            "grid_template_columns": null,
            "flex": null,
            "_model_name": "LayoutModel",
            "justify_items": null,
            "grid_row": null,
            "max_height": null,
            "align_content": null,
            "visibility": null,
            "align_self": null,
            "height": null,
            "min_height": null,
            "padding": null,
            "grid_auto_rows": null,
            "grid_gap": null,
            "max_width": null,
            "order": null,
            "_view_module_version": "1.2.0",
            "grid_template_areas": null,
            "object_position": null,
            "object_fit": null,
            "grid_auto_columns": null,
            "margin": null,
            "display": null,
            "left": null
          }
        },
        "7304febeaac248af85c81685ad8ea5ad": {
          "model_module": "@jupyter-widgets/controls",
          "model_name": "DescriptionStyleModel",
          "state": {
            "_view_name": "StyleView",
            "_model_name": "DescriptionStyleModel",
            "description_width": "",
            "_view_module": "@jupyter-widgets/base",
            "_model_module_version": "1.5.0",
            "_view_count": null,
            "_view_module_version": "1.2.0",
            "_model_module": "@jupyter-widgets/controls"
          }
        },
        "7ebd79548dea4d96b803ac13dd8a7a32": {
          "model_module": "@jupyter-widgets/base",
          "model_name": "LayoutModel",
          "state": {
            "_view_name": "LayoutView",
            "grid_template_rows": null,
            "right": null,
            "justify_content": null,
            "_view_module": "@jupyter-widgets/base",
            "overflow": null,
            "_model_module_version": "1.2.0",
            "_view_count": null,
            "flex_flow": null,
            "width": null,
            "min_width": null,
            "border": null,
            "align_items": null,
            "bottom": null,
            "_model_module": "@jupyter-widgets/base",
            "top": null,
            "grid_column": null,
            "overflow_y": null,
            "overflow_x": null,
            "grid_auto_flow": null,
            "grid_area": null,
            "grid_template_columns": null,
            "flex": null,
            "_model_name": "LayoutModel",
            "justify_items": null,
            "grid_row": null,
            "max_height": null,
            "align_content": null,
            "visibility": null,
            "align_self": null,
            "height": null,
            "min_height": null,
            "padding": null,
            "grid_auto_rows": null,
            "grid_gap": null,
            "max_width": null,
            "order": null,
            "_view_module_version": "1.2.0",
            "grid_template_areas": null,
            "object_position": null,
            "object_fit": null,
            "grid_auto_columns": null,
            "margin": null,
            "display": null,
            "left": null
          }
        },
        "7a95e6ab502443c9a92afd5404ddefd1": {
          "model_module": "@jupyter-widgets/controls",
          "model_name": "HBoxModel",
          "state": {
            "_view_name": "HBoxView",
            "_dom_classes": [],
            "_model_name": "HBoxModel",
            "_view_module": "@jupyter-widgets/controls",
            "_model_module_version": "1.5.0",
            "_view_count": null,
            "_view_module_version": "1.5.0",
            "box_style": "",
            "layout": "IPY_MODEL_5210ac91042140a5aefe83a0f4a70a93",
            "_model_module": "@jupyter-widgets/controls",
            "children": [
              "IPY_MODEL_5945507c07a44cc4b95aee343ae53923",
              "IPY_MODEL_b52aaf6ffc634bbe94ed830db535cfcd"
            ]
          }
        },
        "5210ac91042140a5aefe83a0f4a70a93": {
          "model_module": "@jupyter-widgets/base",
          "model_name": "LayoutModel",
          "state": {
            "_view_name": "LayoutView",
            "grid_template_rows": null,
            "right": null,
            "justify_content": null,
            "_view_module": "@jupyter-widgets/base",
            "overflow": null,
            "_model_module_version": "1.2.0",
            "_view_count": null,
            "flex_flow": null,
            "width": null,
            "min_width": null,
            "border": null,
            "align_items": null,
            "bottom": null,
            "_model_module": "@jupyter-widgets/base",
            "top": null,
            "grid_column": null,
            "overflow_y": null,
            "overflow_x": null,
            "grid_auto_flow": null,
            "grid_area": null,
            "grid_template_columns": null,
            "flex": null,
            "_model_name": "LayoutModel",
            "justify_items": null,
            "grid_row": null,
            "max_height": null,
            "align_content": null,
            "visibility": null,
            "align_self": null,
            "height": null,
            "min_height": null,
            "padding": null,
            "grid_auto_rows": null,
            "grid_gap": null,
            "max_width": null,
            "order": null,
            "_view_module_version": "1.2.0",
            "grid_template_areas": null,
            "object_position": null,
            "object_fit": null,
            "grid_auto_columns": null,
            "margin": null,
            "display": null,
            "left": null
          }
        },
        "5945507c07a44cc4b95aee343ae53923": {
          "model_module": "@jupyter-widgets/controls",
          "model_name": "FloatProgressModel",
          "state": {
            "_view_name": "ProgressView",
            "style": "IPY_MODEL_f55e4fa436c8498f95f39e44839dc5ef",
            "_dom_classes": [],
            "description": "Downloading: 100%",
            "_model_name": "FloatProgressModel",
            "bar_style": "success",
            "max": 267967963,
            "_view_module": "@jupyter-widgets/controls",
            "_model_module_version": "1.5.0",
            "value": 267967963,
            "_view_count": null,
            "_view_module_version": "1.5.0",
            "orientation": "horizontal",
            "min": 0,
            "description_tooltip": null,
            "_model_module": "@jupyter-widgets/controls",
            "layout": "IPY_MODEL_96bbd9bdf4ca47ac98d29a17a55ff6eb"
          }
        },
        "b52aaf6ffc634bbe94ed830db535cfcd": {
          "model_module": "@jupyter-widgets/controls",
          "model_name": "HTMLModel",
          "state": {
            "_view_name": "HTMLView",
            "style": "IPY_MODEL_2625825da63f485b8f496aa29d662b68",
            "_dom_classes": [],
            "description": "",
            "_model_name": "HTMLModel",
            "placeholder": "​",
            "_view_module": "@jupyter-widgets/controls",
            "_model_module_version": "1.5.0",
            "value": " 268M/268M [00:05&lt;00:00, 44.8MB/s]",
            "_view_count": null,
            "_view_module_version": "1.5.0",
            "description_tooltip": null,
            "_model_module": "@jupyter-widgets/controls",
            "layout": "IPY_MODEL_d234a356aac740ec8bd2c6ba6b250b61"
          }
        },
        "f55e4fa436c8498f95f39e44839dc5ef": {
          "model_module": "@jupyter-widgets/controls",
          "model_name": "ProgressStyleModel",
          "state": {
            "_view_name": "StyleView",
            "_model_name": "ProgressStyleModel",
            "description_width": "initial",
            "_view_module": "@jupyter-widgets/base",
            "_model_module_version": "1.5.0",
            "_view_count": null,
            "_view_module_version": "1.2.0",
            "bar_color": null,
            "_model_module": "@jupyter-widgets/controls"
          }
        },
        "96bbd9bdf4ca47ac98d29a17a55ff6eb": {
          "model_module": "@jupyter-widgets/base",
          "model_name": "LayoutModel",
          "state": {
            "_view_name": "LayoutView",
            "grid_template_rows": null,
            "right": null,
            "justify_content": null,
            "_view_module": "@jupyter-widgets/base",
            "overflow": null,
            "_model_module_version": "1.2.0",
            "_view_count": null,
            "flex_flow": null,
            "width": null,
            "min_width": null,
            "border": null,
            "align_items": null,
            "bottom": null,
            "_model_module": "@jupyter-widgets/base",
            "top": null,
            "grid_column": null,
            "overflow_y": null,
            "overflow_x": null,
            "grid_auto_flow": null,
            "grid_area": null,
            "grid_template_columns": null,
            "flex": null,
            "_model_name": "LayoutModel",
            "justify_items": null,
            "grid_row": null,
            "max_height": null,
            "align_content": null,
            "visibility": null,
            "align_self": null,
            "height": null,
            "min_height": null,
            "padding": null,
            "grid_auto_rows": null,
            "grid_gap": null,
            "max_width": null,
            "order": null,
            "_view_module_version": "1.2.0",
            "grid_template_areas": null,
            "object_position": null,
            "object_fit": null,
            "grid_auto_columns": null,
            "margin": null,
            "display": null,
            "left": null
          }
        },
        "2625825da63f485b8f496aa29d662b68": {
          "model_module": "@jupyter-widgets/controls",
          "model_name": "DescriptionStyleModel",
          "state": {
            "_view_name": "StyleView",
            "_model_name": "DescriptionStyleModel",
            "description_width": "",
            "_view_module": "@jupyter-widgets/base",
            "_model_module_version": "1.5.0",
            "_view_count": null,
            "_view_module_version": "1.2.0",
            "_model_module": "@jupyter-widgets/controls"
          }
        },
        "d234a356aac740ec8bd2c6ba6b250b61": {
          "model_module": "@jupyter-widgets/base",
          "model_name": "LayoutModel",
          "state": {
            "_view_name": "LayoutView",
            "grid_template_rows": null,
            "right": null,
            "justify_content": null,
            "_view_module": "@jupyter-widgets/base",
            "overflow": null,
            "_model_module_version": "1.2.0",
            "_view_count": null,
            "flex_flow": null,
            "width": null,
            "min_width": null,
            "border": null,
            "align_items": null,
            "bottom": null,
            "_model_module": "@jupyter-widgets/base",
            "top": null,
            "grid_column": null,
            "overflow_y": null,
            "overflow_x": null,
            "grid_auto_flow": null,
            "grid_area": null,
            "grid_template_columns": null,
            "flex": null,
            "_model_name": "LayoutModel",
            "justify_items": null,
            "grid_row": null,
            "max_height": null,
            "align_content": null,
            "visibility": null,
            "align_self": null,
            "height": null,
            "min_height": null,
            "padding": null,
            "grid_auto_rows": null,
            "grid_gap": null,
            "max_width": null,
            "order": null,
            "_view_module_version": "1.2.0",
            "grid_template_areas": null,
            "object_position": null,
            "object_fit": null,
            "grid_auto_columns": null,
            "margin": null,
            "display": null,
            "left": null
          }
        },
        "6e6f27acf8e34e36beea6f7f4290c7da": {
          "model_module": "@jupyter-widgets/controls",
          "model_name": "HBoxModel",
          "state": {
            "_view_name": "HBoxView",
            "_dom_classes": [],
            "_model_name": "HBoxModel",
            "_view_module": "@jupyter-widgets/controls",
            "_model_module_version": "1.5.0",
            "_view_count": null,
            "_view_module_version": "1.5.0",
            "box_style": "",
            "layout": "IPY_MODEL_6a59d9d42d7c4681ac20ff5d4e6df891",
            "_model_module": "@jupyter-widgets/controls",
            "children": [
              "IPY_MODEL_ee4ea32d9ca947bd92253ad5e9abe968",
              "IPY_MODEL_b852aaae62234246b65f22d8f000bcb5"
            ]
          }
        },
        "6a59d9d42d7c4681ac20ff5d4e6df891": {
          "model_module": "@jupyter-widgets/base",
          "model_name": "LayoutModel",
          "state": {
            "_view_name": "LayoutView",
            "grid_template_rows": null,
            "right": null,
            "justify_content": null,
            "_view_module": "@jupyter-widgets/base",
            "overflow": null,
            "_model_module_version": "1.2.0",
            "_view_count": null,
            "flex_flow": null,
            "width": null,
            "min_width": null,
            "border": null,
            "align_items": null,
            "bottom": null,
            "_model_module": "@jupyter-widgets/base",
            "top": null,
            "grid_column": null,
            "overflow_y": null,
            "overflow_x": null,
            "grid_auto_flow": null,
            "grid_area": null,
            "grid_template_columns": null,
            "flex": null,
            "_model_name": "LayoutModel",
            "justify_items": null,
            "grid_row": null,
            "max_height": null,
            "align_content": null,
            "visibility": null,
            "align_self": null,
            "height": null,
            "min_height": null,
            "padding": null,
            "grid_auto_rows": null,
            "grid_gap": null,
            "max_width": null,
            "order": null,
            "_view_module_version": "1.2.0",
            "grid_template_areas": null,
            "object_position": null,
            "object_fit": null,
            "grid_auto_columns": null,
            "margin": null,
            "display": null,
            "left": null
          }
        },
        "ee4ea32d9ca947bd92253ad5e9abe968": {
          "model_module": "@jupyter-widgets/controls",
          "model_name": "FloatProgressModel",
          "state": {
            "_view_name": "ProgressView",
            "style": "IPY_MODEL_342e014f7b8e468f95befc15b8fc63b6",
            "_dom_classes": [],
            "description": "Downloading: 100%",
            "_model_name": "FloatProgressModel",
            "bar_style": "success",
            "max": 231508,
            "_view_module": "@jupyter-widgets/controls",
            "_model_module_version": "1.5.0",
            "value": 231508,
            "_view_count": null,
            "_view_module_version": "1.5.0",
            "orientation": "horizontal",
            "min": 0,
            "description_tooltip": null,
            "_model_module": "@jupyter-widgets/controls",
            "layout": "IPY_MODEL_482a381023724976b5c58979df826e51"
          }
        },
        "b852aaae62234246b65f22d8f000bcb5": {
          "model_module": "@jupyter-widgets/controls",
          "model_name": "HTMLModel",
          "state": {
            "_view_name": "HTMLView",
            "style": "IPY_MODEL_a52b902ca85f4b149feb274df68ea6b9",
            "_dom_classes": [],
            "description": "",
            "_model_name": "HTMLModel",
            "placeholder": "​",
            "_view_module": "@jupyter-widgets/controls",
            "_model_module_version": "1.5.0",
            "value": " 232k/232k [00:00&lt;00:00, 630kB/s]",
            "_view_count": null,
            "_view_module_version": "1.5.0",
            "description_tooltip": null,
            "_model_module": "@jupyter-widgets/controls",
            "layout": "IPY_MODEL_7144c8a0074c446c9c696c916d489111"
          }
        },
        "342e014f7b8e468f95befc15b8fc63b6": {
          "model_module": "@jupyter-widgets/controls",
          "model_name": "ProgressStyleModel",
          "state": {
            "_view_name": "StyleView",
            "_model_name": "ProgressStyleModel",
            "description_width": "initial",
            "_view_module": "@jupyter-widgets/base",
            "_model_module_version": "1.5.0",
            "_view_count": null,
            "_view_module_version": "1.2.0",
            "bar_color": null,
            "_model_module": "@jupyter-widgets/controls"
          }
        },
        "482a381023724976b5c58979df826e51": {
          "model_module": "@jupyter-widgets/base",
          "model_name": "LayoutModel",
          "state": {
            "_view_name": "LayoutView",
            "grid_template_rows": null,
            "right": null,
            "justify_content": null,
            "_view_module": "@jupyter-widgets/base",
            "overflow": null,
            "_model_module_version": "1.2.0",
            "_view_count": null,
            "flex_flow": null,
            "width": null,
            "min_width": null,
            "border": null,
            "align_items": null,
            "bottom": null,
            "_model_module": "@jupyter-widgets/base",
            "top": null,
            "grid_column": null,
            "overflow_y": null,
            "overflow_x": null,
            "grid_auto_flow": null,
            "grid_area": null,
            "grid_template_columns": null,
            "flex": null,
            "_model_name": "LayoutModel",
            "justify_items": null,
            "grid_row": null,
            "max_height": null,
            "align_content": null,
            "visibility": null,
            "align_self": null,
            "height": null,
            "min_height": null,
            "padding": null,
            "grid_auto_rows": null,
            "grid_gap": null,
            "max_width": null,
            "order": null,
            "_view_module_version": "1.2.0",
            "grid_template_areas": null,
            "object_position": null,
            "object_fit": null,
            "grid_auto_columns": null,
            "margin": null,
            "display": null,
            "left": null
          }
        },
        "a52b902ca85f4b149feb274df68ea6b9": {
          "model_module": "@jupyter-widgets/controls",
          "model_name": "DescriptionStyleModel",
          "state": {
            "_view_name": "StyleView",
            "_model_name": "DescriptionStyleModel",
            "description_width": "",
            "_view_module": "@jupyter-widgets/base",
            "_model_module_version": "1.5.0",
            "_view_count": null,
            "_view_module_version": "1.2.0",
            "_model_module": "@jupyter-widgets/controls"
          }
        },
        "7144c8a0074c446c9c696c916d489111": {
          "model_module": "@jupyter-widgets/base",
          "model_name": "LayoutModel",
          "state": {
            "_view_name": "LayoutView",
            "grid_template_rows": null,
            "right": null,
            "justify_content": null,
            "_view_module": "@jupyter-widgets/base",
            "overflow": null,
            "_model_module_version": "1.2.0",
            "_view_count": null,
            "flex_flow": null,
            "width": null,
            "min_width": null,
            "border": null,
            "align_items": null,
            "bottom": null,
            "_model_module": "@jupyter-widgets/base",
            "top": null,
            "grid_column": null,
            "overflow_y": null,
            "overflow_x": null,
            "grid_auto_flow": null,
            "grid_area": null,
            "grid_template_columns": null,
            "flex": null,
            "_model_name": "LayoutModel",
            "justify_items": null,
            "grid_row": null,
            "max_height": null,
            "align_content": null,
            "visibility": null,
            "align_self": null,
            "height": null,
            "min_height": null,
            "padding": null,
            "grid_auto_rows": null,
            "grid_gap": null,
            "max_width": null,
            "order": null,
            "_view_module_version": "1.2.0",
            "grid_template_areas": null,
            "object_position": null,
            "object_fit": null,
            "grid_auto_columns": null,
            "margin": null,
            "display": null,
            "left": null
          }
        }
      }
    }
  },
  "cells": [
    {
      "cell_type": "code",
      "metadata": {
        "id": "buG3risTHtc7",
        "colab_type": "code",
        "colab": {
          "base_uri": "https://localhost:8080/",
          "height": 108
        },
        "outputId": "212e5ec2-1c21-402b-a9a7-c789a37f23ba"
      },
      "source": [
        "## Clone GitHub Repo to Colab \n",
        "!git clone https://github.com/anujanand6/Sentiment-Analysis-of-Drug-Reviews.git"
      ],
      "execution_count": null,
      "outputs": [
        {
          "output_type": "stream",
          "text": [
            "Cloning into 'Sentiment-Analysis-of-Drug-Reviews'...\n",
            "remote: Enumerating objects: 59, done.\u001b[K\n",
            "remote: Total 59 (delta 0), reused 0 (delta 0), pack-reused 59\u001b[K\n",
            "Unpacking objects: 100% (59/59), done.\n",
            "Checking out files: 100% (14/14), done.\n"
          ],
          "name": "stdout"
        }
      ]
    },
    {
      "cell_type": "markdown",
      "metadata": {
        "id": "ExYuGazfXfR4",
        "colab_type": "text"
      },
      "source": [
        "# Sentiment Ananlysis of Drug Reviews\n",
        "\n",
        "Patients give reviews for a drug based on the efficacy and their experience using the drug. The objective of this project is to assign a sentiment (positive or negative) to an unlabeled review utilizing already labelled reviews. Assigning a sentiment would help the brand understand what is working for their drug and what is not by looking at the competitor data.\n",
        "\n",
        "Key concepts implemented: <br>\n",
        "1. Expolatory Data Analysis\n",
        "2. Tokenization and Word Count\n",
        "3. Count Vectorization & TF-IDF\n",
        "4. NMF & LDA\n",
        "5. GloVe\n",
        "6. ELMo\n",
        "7. DistilBERT\n",
        "8. BioBERT\n",
        "9. Performance comparison of Base English model and scispaCy model.\n",
        "10. Sentiment Classification using Linar SVC, RBF SVC, Gaussian Naive Bayes"
      ]
    },
    {
      "cell_type": "markdown",
      "metadata": {
        "id": "ShA0vobbNJgt",
        "colab_type": "text"
      },
      "source": [
        "## **NOTE**: \n",
        "\n",
        "### 1. Since we have implemented large models like BERT and BioBERT, please run on GPU.\n",
        "\n",
        "### 2. Till the cell block called 'Data Reduction', please run the notebook as it is. Then you can choose to reduce the size of the data, if needed."
      ]
    },
    {
      "cell_type": "markdown",
      "metadata": {
        "id": "zvhiZ_ggnV9p",
        "colab_type": "text"
      },
      "source": [
        "## Library Installations and System Setup"
      ]
    },
    {
      "cell_type": "markdown",
      "metadata": {
        "id": "yv5gkbyUVeN1",
        "colab_type": "text"
      },
      "source": [
        "In addition to the spaCy's Base English model, we also used the ScispaCy model called **en_ner_bc5cdr_md**. This is a spaCy NER model trained on the BC5CDR corpus. This model is mainly used for the purpose of Disease-Chemical relation extraction. Since our dataset comprises a plethora of biomedical terms, this seemd to be a good option."
      ]
    },
    {
      "cell_type": "code",
      "metadata": {
        "id": "B--EaIfffhhb",
        "colab_type": "code",
        "collapsed": true,
        "colab": {
          "base_uri": "https://localhost:8080/",
          "height": 582
        },
        "outputId": "1632d1da-1481-44b5-931a-af5df77e7ae5"
      },
      "source": [
        "# A spaCy NER model trained on the BC5CDR corpus\n",
        "!pip install https://s3-us-west-2.amazonaws.com/ai2-s2-scispacy/releases/v0.2.4/en_ner_bc5cdr_md-0.2.4.tar.gz\n",
        "\n",
        "import en_ner_bc5cdr_md\n",
        "# Load SciscpaCy model\n",
        "nlp_sci = en_ner_bc5cdr_md.load()"
      ],
      "execution_count": null,
      "outputs": [
        {
          "output_type": "stream",
          "text": [
            "Collecting https://s3-us-west-2.amazonaws.com/ai2-s2-scispacy/releases/v0.2.4/en_ner_bc5cdr_md-0.2.4.tar.gz\n",
            "\u001b[?25l  Downloading https://s3-us-west-2.amazonaws.com/ai2-s2-scispacy/releases/v0.2.4/en_ner_bc5cdr_md-0.2.4.tar.gz (70.1MB)\n",
            "\u001b[K     |████████████████████████████████| 70.1MB 41kB/s \n",
            "\u001b[?25hRequirement already satisfied: spacy>=2.2.1 in /usr/local/lib/python3.6/dist-packages (from en-ner-bc5cdr-md==0.2.4) (2.2.4)\n",
            "Requirement already satisfied: preshed<3.1.0,>=3.0.2 in /usr/local/lib/python3.6/dist-packages (from spacy>=2.2.1->en-ner-bc5cdr-md==0.2.4) (3.0.2)\n",
            "Requirement already satisfied: blis<0.5.0,>=0.4.0 in /usr/local/lib/python3.6/dist-packages (from spacy>=2.2.1->en-ner-bc5cdr-md==0.2.4) (0.4.1)\n",
            "Requirement already satisfied: cymem<2.1.0,>=2.0.2 in /usr/local/lib/python3.6/dist-packages (from spacy>=2.2.1->en-ner-bc5cdr-md==0.2.4) (2.0.3)\n",
            "Requirement already satisfied: requests<3.0.0,>=2.13.0 in /usr/local/lib/python3.6/dist-packages (from spacy>=2.2.1->en-ner-bc5cdr-md==0.2.4) (2.23.0)\n",
            "Requirement already satisfied: srsly<1.1.0,>=1.0.2 in /usr/local/lib/python3.6/dist-packages (from spacy>=2.2.1->en-ner-bc5cdr-md==0.2.4) (1.0.2)\n",
            "Requirement already satisfied: catalogue<1.1.0,>=0.0.7 in /usr/local/lib/python3.6/dist-packages (from spacy>=2.2.1->en-ner-bc5cdr-md==0.2.4) (1.0.0)\n",
            "Requirement already satisfied: wasabi<1.1.0,>=0.4.0 in /usr/local/lib/python3.6/dist-packages (from spacy>=2.2.1->en-ner-bc5cdr-md==0.2.4) (0.7.1)\n",
            "Requirement already satisfied: setuptools in /usr/local/lib/python3.6/dist-packages (from spacy>=2.2.1->en-ner-bc5cdr-md==0.2.4) (49.2.0)\n",
            "Requirement already satisfied: tqdm<5.0.0,>=4.38.0 in /usr/local/lib/python3.6/dist-packages (from spacy>=2.2.1->en-ner-bc5cdr-md==0.2.4) (4.41.1)\n",
            "Requirement already satisfied: numpy>=1.15.0 in /usr/local/lib/python3.6/dist-packages (from spacy>=2.2.1->en-ner-bc5cdr-md==0.2.4) (1.18.5)\n",
            "Requirement already satisfied: murmurhash<1.1.0,>=0.28.0 in /usr/local/lib/python3.6/dist-packages (from spacy>=2.2.1->en-ner-bc5cdr-md==0.2.4) (1.0.2)\n",
            "Requirement already satisfied: plac<1.2.0,>=0.9.6 in /usr/local/lib/python3.6/dist-packages (from spacy>=2.2.1->en-ner-bc5cdr-md==0.2.4) (1.1.3)\n",
            "Requirement already satisfied: thinc==7.4.0 in /usr/local/lib/python3.6/dist-packages (from spacy>=2.2.1->en-ner-bc5cdr-md==0.2.4) (7.4.0)\n",
            "Requirement already satisfied: urllib3!=1.25.0,!=1.25.1,<1.26,>=1.21.1 in /usr/local/lib/python3.6/dist-packages (from requests<3.0.0,>=2.13.0->spacy>=2.2.1->en-ner-bc5cdr-md==0.2.4) (1.24.3)\n",
            "Requirement already satisfied: chardet<4,>=3.0.2 in /usr/local/lib/python3.6/dist-packages (from requests<3.0.0,>=2.13.0->spacy>=2.2.1->en-ner-bc5cdr-md==0.2.4) (3.0.4)\n",
            "Requirement already satisfied: idna<3,>=2.5 in /usr/local/lib/python3.6/dist-packages (from requests<3.0.0,>=2.13.0->spacy>=2.2.1->en-ner-bc5cdr-md==0.2.4) (2.10)\n",
            "Requirement already satisfied: certifi>=2017.4.17 in /usr/local/lib/python3.6/dist-packages (from requests<3.0.0,>=2.13.0->spacy>=2.2.1->en-ner-bc5cdr-md==0.2.4) (2020.6.20)\n",
            "Requirement already satisfied: importlib-metadata>=0.20; python_version < \"3.8\" in /usr/local/lib/python3.6/dist-packages (from catalogue<1.1.0,>=0.0.7->spacy>=2.2.1->en-ner-bc5cdr-md==0.2.4) (1.7.0)\n",
            "Requirement already satisfied: zipp>=0.5 in /usr/local/lib/python3.6/dist-packages (from importlib-metadata>=0.20; python_version < \"3.8\"->catalogue<1.1.0,>=0.0.7->spacy>=2.2.1->en-ner-bc5cdr-md==0.2.4) (3.1.0)\n",
            "Building wheels for collected packages: en-ner-bc5cdr-md\n",
            "  Building wheel for en-ner-bc5cdr-md (setup.py) ... \u001b[?25l\u001b[?25hdone\n",
            "  Created wheel for en-ner-bc5cdr-md: filename=en_ner_bc5cdr_md-0.2.4-cp36-none-any.whl size=70531467 sha256=50d6a85b05667df9c749a69ade438573e00790e027a999b9b51b36f4134d00a4\n",
            "  Stored in directory: /root/.cache/pip/wheels/e1/06/4f/75676083b8afcd820050011e7c88bfbae8b42c6f36a3aca6f8\n",
            "Successfully built en-ner-bc5cdr-md\n",
            "Installing collected packages: en-ner-bc5cdr-md\n",
            "Successfully installed en-ner-bc5cdr-md-0.2.4\n"
          ],
          "name": "stdout"
        }
      ]
    },
    {
      "cell_type": "code",
      "metadata": {
        "id": "qfAEtRRtkUen",
        "colab_type": "code",
        "colab": {
          "base_uri": "https://localhost:8080/",
          "height": 73
        },
        "outputId": "39e49aa4-fafd-49f0-92f6-c51908bd82dd"
      },
      "source": [
        "# setup\n",
        "import sys\n",
        "import subprocess\n",
        "import pkg_resources\n",
        "import re\n",
        "\n",
        "required = {'spacy', 'scikit-learn', 'numpy', \n",
        "            'pandas', 'torch', 'matplotlib',\n",
        "            'transformers', 'allennlp==0.9.0'}\n",
        "installed = {pkg.key for pkg in pkg_resources.working_set}\n",
        "missing = required - installed\n",
        "\n",
        "if missing:\n",
        "    python = sys.executable\n",
        "    subprocess.check_call([python, '-m', 'pip', 'install', *missing], stdout=subprocess.DEVNULL)\n",
        "\n",
        "import spacy\n",
        "import numpy as np\n",
        "import pandas as pd\n",
        "import random\n",
        "\n",
        "from sklearn.feature_extraction.text import CountVectorizer, TfidfVectorizer\n",
        "from sklearn.decomposition import NMF, LatentDirichletAllocation\n",
        "from sklearn.metrics.pairwise import cosine_similarity\n",
        "from sklearn.model_selection import train_test_split\n",
        "from sklearn.metrics import confusion_matrix\n",
        "from sklearn.preprocessing import normalize\n",
        "from sklearn.metrics import accuracy_score\n",
        "from sklearn.pipeline import Pipeline\n",
        "from sklearn.manifold import TSNE\n",
        "\n",
        "from sklearn.svm import SVC\n",
        "from sklearn.naive_bayes import GaussianNB\n",
        "\n",
        "import pickle\n",
        "\n",
        "import matplotlib\n",
        "import seaborn as sns\n",
        "from pylab import rcParams\n",
        "import matplotlib.pyplot as plt\n",
        "\n",
        "from allennlp.commands.elmo import ElmoEmbedder\n",
        "\n",
        "import transformers\n",
        "from transformers import BertModel, BertTokenizer\n",
        "from transformers import DistilBertModel, DistilBertTokenizer\n",
        "\n",
        "import torch\n",
        "# GPU Device\n",
        "device = torch.device(\"cuda:0\") "
      ],
      "execution_count": null,
      "outputs": [
        {
          "output_type": "stream",
          "text": [
            "/usr/local/lib/python3.6/dist-packages/statsmodels/tools/_testing.py:19: FutureWarning: pandas.util.testing is deprecated. Use the functions in the public API at pandas.testing instead.\n",
            "  import pandas.util.testing as tm\n"
          ],
          "name": "stderr"
        }
      ]
    },
    {
      "cell_type": "code",
      "metadata": {
        "scrolled": true,
        "id": "hYvB0NRikUew",
        "colab_type": "code",
        "colab": {}
      },
      "source": [
        "# Load Base English model\n",
        "from spacy.lang.en import English\n",
        "en = English()"
      ],
      "execution_count": null,
      "outputs": []
    },
    {
      "cell_type": "markdown",
      "metadata": {
        "id": "wlUa3zMeyW4D",
        "colab_type": "text"
      },
      "source": [
        "## Load Data"
      ]
    },
    {
      "cell_type": "code",
      "metadata": {
        "id": "ceGsxoaRkUe4",
        "colab_type": "code",
        "colab": {}
      },
      "source": [
        "# Change to required path\n",
        "file_path = \"/content/Sentiment-Analysis-of-Drug-Reviews/Data Files\"\n",
        "\n",
        "train_data = pd.read_csv(file_path + \"/drugsComTrain_raw.csv\", parse_dates=[\"date\"])\n",
        "test_data = pd.read_csv(file_path + \"/drugsComTest_raw.csv\", parse_dates=[\"date\"])"
      ],
      "execution_count": null,
      "outputs": []
    },
    {
      "cell_type": "code",
      "metadata": {
        "id": "S4tcM45ekUe-",
        "colab_type": "code",
        "colab": {
          "base_uri": "https://localhost:8080/",
          "height": 53
        },
        "outputId": "89653dde-c4ac-43ff-ec5b-4d12d73cb19b"
      },
      "source": [
        "print(train_data.shape)\n",
        "print(test_data.shape)"
      ],
      "execution_count": null,
      "outputs": [
        {
          "output_type": "stream",
          "text": [
            "(161297, 7)\n",
            "(53766, 7)\n"
          ],
          "name": "stdout"
        }
      ]
    },
    {
      "cell_type": "code",
      "metadata": {
        "id": "gWFvaHIlkUfC",
        "colab_type": "code",
        "colab": {
          "base_uri": "https://localhost:8080/",
          "height": 35
        },
        "outputId": "582a1ee4-f185-4490-b8dc-af6976856706"
      },
      "source": [
        "# Join both train and test data for easy EDA\n",
        "data = train_data.append(test_data)\n",
        "data.shape"
      ],
      "execution_count": null,
      "outputs": [
        {
          "output_type": "execute_result",
          "data": {
            "text/plain": [
              "(215063, 7)"
            ]
          },
          "metadata": {
            "tags": []
          },
          "execution_count": 7
        }
      ]
    },
    {
      "cell_type": "markdown",
      "metadata": {
        "id": "2bgTSnX8g4pT",
        "colab_type": "text"
      },
      "source": [
        "We have more than 200k reviews in our whole corpus."
      ]
    },
    {
      "cell_type": "markdown",
      "metadata": {
        "id": "NeDCCWCU1kqv",
        "colab_type": "text"
      },
      "source": [
        "## Create Sentiment Label"
      ]
    },
    {
      "cell_type": "markdown",
      "metadata": {
        "id": "YsDgXgnS4AMX",
        "colab_type": "text"
      },
      "source": [
        "We create the dependent variable called 'sentiment' based on the ratings of the reviews.\n",
        "\n",
        "We set the sentiment as: <br>\n",
        "Negative if the rating is between 1 to 5 <br>\n",
        "Positive if the rating is between 6 to 10\n",
        "\n"
      ]
    },
    {
      "cell_type": "code",
      "metadata": {
        "colab_type": "code",
        "id": "ZDidaUk9pSnb",
        "colab": {}
      },
      "source": [
        "# Add sentiment labels based on rating\n",
        "# 1,2,3,4,5 - Negative\n",
        "# 6,7,8,9,10 - Positive\n",
        "\n",
        "data[\"sentiment\"] = data[\"rating\"].apply(lambda rating: 'positive' if  rating >= 6  \n",
        "                                         else 'negative')"
      ],
      "execution_count": null,
      "outputs": []
    },
    {
      "cell_type": "markdown",
      "metadata": {
        "id": "LSgnPt7_ya4H",
        "colab_type": "text"
      },
      "source": [
        "## Expolatory Data Analysis on Full Dataset"
      ]
    },
    {
      "cell_type": "code",
      "metadata": {
        "id": "8TcLVmuSkUfH",
        "colab_type": "code",
        "colab": {
          "base_uri": "https://localhost:8080/",
          "height": 206
        },
        "outputId": "6ced28b4-18c9-430d-96a8-2417a31688ff"
      },
      "source": [
        "data.head()"
      ],
      "execution_count": null,
      "outputs": [
        {
          "output_type": "execute_result",
          "data": {
            "text/html": [
              "<div>\n",
              "<style scoped>\n",
              "    .dataframe tbody tr th:only-of-type {\n",
              "        vertical-align: middle;\n",
              "    }\n",
              "\n",
              "    .dataframe tbody tr th {\n",
              "        vertical-align: top;\n",
              "    }\n",
              "\n",
              "    .dataframe thead th {\n",
              "        text-align: right;\n",
              "    }\n",
              "</style>\n",
              "<table border=\"1\" class=\"dataframe\">\n",
              "  <thead>\n",
              "    <tr style=\"text-align: right;\">\n",
              "      <th></th>\n",
              "      <th>uniqueID</th>\n",
              "      <th>drugName</th>\n",
              "      <th>condition</th>\n",
              "      <th>review</th>\n",
              "      <th>rating</th>\n",
              "      <th>date</th>\n",
              "      <th>usefulCount</th>\n",
              "      <th>sentiment</th>\n",
              "    </tr>\n",
              "  </thead>\n",
              "  <tbody>\n",
              "    <tr>\n",
              "      <th>0</th>\n",
              "      <td>206461</td>\n",
              "      <td>Valsartan</td>\n",
              "      <td>Left Ventricular Dysfunction</td>\n",
              "      <td>\"It has no side effect, I take it in combinati...</td>\n",
              "      <td>9</td>\n",
              "      <td>2012-05-20</td>\n",
              "      <td>27</td>\n",
              "      <td>positive</td>\n",
              "    </tr>\n",
              "    <tr>\n",
              "      <th>1</th>\n",
              "      <td>95260</td>\n",
              "      <td>Guanfacine</td>\n",
              "      <td>ADHD</td>\n",
              "      <td>\"My son is halfway through his fourth week of ...</td>\n",
              "      <td>8</td>\n",
              "      <td>2010-04-27</td>\n",
              "      <td>192</td>\n",
              "      <td>positive</td>\n",
              "    </tr>\n",
              "    <tr>\n",
              "      <th>2</th>\n",
              "      <td>92703</td>\n",
              "      <td>Lybrel</td>\n",
              "      <td>Birth Control</td>\n",
              "      <td>\"I used to take another oral contraceptive, wh...</td>\n",
              "      <td>5</td>\n",
              "      <td>2009-12-14</td>\n",
              "      <td>17</td>\n",
              "      <td>negative</td>\n",
              "    </tr>\n",
              "    <tr>\n",
              "      <th>3</th>\n",
              "      <td>138000</td>\n",
              "      <td>Ortho Evra</td>\n",
              "      <td>Birth Control</td>\n",
              "      <td>\"This is my first time using any form of birth...</td>\n",
              "      <td>8</td>\n",
              "      <td>2015-11-03</td>\n",
              "      <td>10</td>\n",
              "      <td>positive</td>\n",
              "    </tr>\n",
              "    <tr>\n",
              "      <th>4</th>\n",
              "      <td>35696</td>\n",
              "      <td>Buprenorphine / naloxone</td>\n",
              "      <td>Opiate Dependence</td>\n",
              "      <td>\"Suboxone has completely turned my life around...</td>\n",
              "      <td>9</td>\n",
              "      <td>2016-11-27</td>\n",
              "      <td>37</td>\n",
              "      <td>positive</td>\n",
              "    </tr>\n",
              "  </tbody>\n",
              "</table>\n",
              "</div>"
            ],
            "text/plain": [
              "   uniqueID                  drugName  ... usefulCount sentiment\n",
              "0    206461                 Valsartan  ...          27  positive\n",
              "1     95260                Guanfacine  ...         192  positive\n",
              "2     92703                    Lybrel  ...          17  negative\n",
              "3    138000                Ortho Evra  ...          10  positive\n",
              "4     35696  Buprenorphine / naloxone  ...          37  positive\n",
              "\n",
              "[5 rows x 8 columns]"
            ]
          },
          "metadata": {
            "tags": []
          },
          "execution_count": 10
        }
      ]
    },
    {
      "cell_type": "markdown",
      "metadata": {
        "id": "SBcRVzdNhYKm",
        "colab_type": "text"
      },
      "source": [
        "Features in our dataset: <br>\n",
        "\n",
        "*  Unique ID   : a unique ID for each drug\n",
        "*  Drug Name   : name of the drug\n",
        "*  Condition   : medical condition that the drug is used to treat.\n",
        "*  Review      : patients’ review of the drug\n",
        "*  Rating      : overall scoring of the drug on a scale of 1 to 10\n",
        "*  Date        : the date on which the review was recorded\n",
        "*  usefulCount : this is a count of how many people found this review to be useful."
      ]
    },
    {
      "cell_type": "code",
      "metadata": {
        "id": "utAzyAeIkUfM",
        "colab_type": "code",
        "colab": {
          "base_uri": "https://localhost:8080/",
          "height": 181
        },
        "outputId": "5abc7c56-d91e-46e1-b7b9-2480b1ded0e3"
      },
      "source": [
        "print(data.isnull().sum())"
      ],
      "execution_count": null,
      "outputs": [
        {
          "output_type": "stream",
          "text": [
            "uniqueID          0\n",
            "drugName          0\n",
            "condition      1194\n",
            "review            0\n",
            "rating            0\n",
            "date              0\n",
            "usefulCount       0\n",
            "sentiment         0\n",
            "dtype: int64\n"
          ],
          "name": "stdout"
        }
      ]
    },
    {
      "cell_type": "markdown",
      "metadata": {
        "id": "uilqj3IPhFn9",
        "colab_type": "text"
      },
      "source": [
        "There are about 1200 missing values which we will remove later on."
      ]
    },
    {
      "cell_type": "code",
      "metadata": {
        "id": "RTJ3rRSACJg7",
        "colab_type": "code",
        "colab": {}
      },
      "source": [
        "# Split data into positive and negative corpus\n",
        "pos = data[data[\"sentiment\"] == \"positive\"]\n",
        "neg = data[data[\"sentiment\"] == \"negative\"]"
      ],
      "execution_count": null,
      "outputs": []
    },
    {
      "cell_type": "code",
      "metadata": {
        "id": "5BmvzRyjBpO5",
        "colab_type": "code",
        "colab": {
          "base_uri": "https://localhost:8080/",
          "height": 460
        },
        "outputId": "8810e5e7-f89f-4543-c057-2a1862cf7d7c"
      },
      "source": [
        "# Count of each label\n",
        "rcParams['figure.figsize'] = 10, 7\n",
        "sns.set_style(\"darkgrid\")\n",
        "sns.countplot(data.sentiment, palette=[\"green\", \"red\"])"
      ],
      "execution_count": null,
      "outputs": [
        {
          "output_type": "execute_result",
          "data": {
            "text/plain": [
              "<matplotlib.axes._subplots.AxesSubplot at 0x7f0e2151a240>"
            ]
          },
          "metadata": {
            "tags": []
          },
          "execution_count": 13
        },
        {
          "output_type": "display_data",
          "data": {
            "image/png": "[encoded data removed]",
            "text/plain": [
              "<Figure size 720x504 with 1 Axes>"
            ]
          },
          "metadata": {
            "tags": []
          }
        }
      ]
    },
    {
      "cell_type": "markdown",
      "metadata": {
        "id": "WGTakMo1HICp",
        "colab_type": "text"
      },
      "source": [
        "This is a clear case of class imbalance.\n",
        "\n",
        "At this point, undersampling the positive reviews is an option, however we want to move ahead with first selecting the top 'N' conditons for the purpose of this analysis (you'll see further in the code) and then again check for the pos/neg distribution.\n",
        "\n"
      ]
    },
    {
      "cell_type": "markdown",
      "metadata": {
        "id": "OHghe-HW4fsA",
        "colab_type": "text"
      },
      "source": [
        "Let's look at the distribution of the sentiment across conditions and drugs. "
      ]
    },
    {
      "cell_type": "code",
      "metadata": {
        "id": "r-dc9XXfkUfT",
        "colab_type": "code",
        "colab": {
          "base_uri": "https://localhost:8080/",
          "height": 35
        },
        "outputId": "02d64066-a49a-4874-c5ee-978eccc7c78e"
      },
      "source": [
        "print(\"Number of unique conditions/diseases: \", data.condition.unique().shape[0])"
      ],
      "execution_count": null,
      "outputs": [
        {
          "output_type": "stream",
          "text": [
            "Number of unique conditions/diseases:  917\n"
          ],
          "name": "stdout"
        }
      ]
    },
    {
      "cell_type": "markdown",
      "metadata": {
        "id": "nlIMakgyhVTa",
        "colab_type": "text"
      },
      "source": [
        "That's a lot of conditions!! Let's plot the number of reviews for the top 20 conditions."
      ]
    },
    {
      "cell_type": "code",
      "metadata": {
        "id": "o4T1MkN-rfVd",
        "colab_type": "code",
        "colab": {
          "base_uri": "https://localhost:8080/",
          "height": 569
        },
        "outputId": "bf090840-6b14-44a9-fe87-bb4b8cb77e64"
      },
      "source": [
        "# stacked bar plot\n",
        "#Get values from the group and categories\n",
        "N = 20\n",
        "\n",
        "conditions_list = list(data['condition'].value_counts().sort_values(ascending=False)[0:N].index)\n",
        "condition_count = data[data['condition'].isin(conditions_list)].groupby(['condition'])['sentiment'].value_counts()\n",
        "\n",
        "colors = [ 'red', 'green']\n",
        "\n",
        "rcParams['figure.figsize'] = 20, 7\n",
        "s_sort = condition_count.groupby(level=[0]).sum().sort_values(ascending=False)\n",
        "df_sorted = condition_count.reindex(index=s_sort.index, level=0)\n",
        "df_sorted.unstack().plot.bar(stacked=True, color=colors, title=\"Distribution of Sentiment over Top 10 Conditions (Stacked Bar Plot)\", rot=45)\n"
      ],
      "execution_count": null,
      "outputs": [
        {
          "output_type": "execute_result",
          "data": {
            "text/plain": [
              "<matplotlib.axes._subplots.AxesSubplot at 0x7f0e20fd52e8>"
            ]
          },
          "metadata": {
            "tags": []
          },
          "execution_count": 15
        },
        {
          "output_type": "display_data",
          "data": {
            "image/png": "[encoded data removed]",
            "text/plain": [
              "<Figure size 1440x504 with 1 Axes>"
            ]
          },
          "metadata": {
            "tags": []
          }
        }
      ]
    },
    {
      "cell_type": "markdown",
      "metadata": {
        "id": "8bjKs8I5yV-z",
        "colab_type": "text"
      },
      "source": [
        "Birth control seems to have the highest number of reviews followed by depression. Including these conditions to the dataset might induce some bias which we will tackle later on.\n",
        "\n",
        "In almost all conditions there seem to be more positive reviews than negative ones."
      ]
    },
    {
      "cell_type": "markdown",
      "metadata": {
        "id": "LMAuRafP8WzO",
        "colab_type": "text"
      },
      "source": [
        "Let's visualize the above after taking out birth control."
      ]
    },
    {
      "cell_type": "code",
      "metadata": {
        "id": "84p4YATAwheG",
        "colab_type": "code",
        "colab": {
          "base_uri": "https://localhost:8080/",
          "height": 569
        },
        "outputId": "a0bc080e-691b-49ae-ccdd-3dd7a1e6a6c3"
      },
      "source": [
        "# stacked bar plot\n",
        "#Get values from the group and categories\n",
        "N = 20\n",
        "\n",
        "conditions_list = list(data['condition'].value_counts().sort_values(ascending=False)[1:N+2].index)\n",
        "condition_count = data[data['condition'].isin(conditions_list)].groupby(['condition'])['sentiment'].value_counts()\n",
        "\n",
        "colors = [ 'red', 'green']\n",
        "\n",
        "rcParams['figure.figsize'] = 20, 7\n",
        "s_sort = condition_count.groupby(level=[0]).sum().sort_values(ascending=False)\n",
        "df_sorted = condition_count.reindex(index=s_sort.index, level=0)\n",
        "df_sorted.unstack().plot.bar(stacked=True, color=colors, title=\"Distribution of Sentiment over Top 10 Conditions (Withoout Birth Control)\", rot=45)"
      ],
      "execution_count": null,
      "outputs": [
        {
          "output_type": "execute_result",
          "data": {
            "text/plain": [
              "<matplotlib.axes._subplots.AxesSubplot at 0x7f0e1f4da2e8>"
            ]
          },
          "metadata": {
            "tags": []
          },
          "execution_count": 19
        },
        {
          "output_type": "display_data",
          "data": {
            "image/png": "[encoded data removed]",
            "text/plain": [
              "<Figure size 1440x504 with 1 Axes>"
            ]
          },
          "metadata": {
            "tags": []
          }
        }
      ]
    },
    {
      "cell_type": "code",
      "metadata": {
        "id": "sqqeiiJtAd8T",
        "colab_type": "code",
        "colab": {
          "base_uri": "https://localhost:8080/",
          "height": 344
        },
        "outputId": "11da4419-c7c1-48b9-9bab-fd4108734820"
      },
      "source": [
        "print(\"Number of reviews present for bottom 15 conditions:\", \"\\n\")\n",
        "data['condition'].value_counts().sort_values(ascending=True)[0:15]"
      ],
      "execution_count": null,
      "outputs": [
        {
          "output_type": "stream",
          "text": [
            "Number of reviews present for bottom 15 conditions: \n",
            "\n"
          ],
          "name": "stdout"
        },
        {
          "output_type": "execute_result",
          "data": {
            "text/plain": [
              "Paragonimus westermani, Lung Fluke              1\n",
              "Neurotic Depression                             1\n",
              "Cerebrovascular Insufficiency                   1\n",
              "92</span> users found this comment helpful.     1\n",
              "Systemic Candidiasis                            1\n",
              "AV Heart Block                                  1\n",
              "54</span> users found this comment helpful.     1\n",
              "Hodgkin's Lymphoma                              1\n",
              "Hypercalcemia                                   1\n",
              "63</span> users found this comment helpful.     1\n",
              "Q Feve                                          1\n",
              "Diagnostic Bronchograms                         1\n",
              "Hydrocephalus                                   1\n",
              "121</span> users found this comment helpful.    1\n",
              "38</span> users found this comment helpful.     1\n",
              "Name: condition, dtype: int64"
            ]
          },
          "metadata": {
            "tags": []
          },
          "execution_count": 17
        }
      ]
    },
    {
      "cell_type": "markdown",
      "metadata": {
        "id": "Dc6n8c3RkpDV",
        "colab_type": "text"
      },
      "source": [
        "These conditions do not help us since they just have one review."
      ]
    },
    {
      "cell_type": "code",
      "metadata": {
        "id": "qgEnumCnkUfo",
        "colab_type": "code",
        "colab": {}
      },
      "source": [
        "print(\"Number of conditions starting with '<span>' that have no meaning: \", \n",
        "      data.condition[data.condition.str.contains(\"</span>\", na=True)].count())"
      ],
      "execution_count": null,
      "outputs": []
    },
    {
      "cell_type": "markdown",
      "metadata": {
        "id": "iqiYCTJKnZyX",
        "colab_type": "text"
      },
      "source": [
        "There seem to be around 1171 wrong entries like '40 < /span> users found this comment helpful.' under the conditions column which do not make sense. We will remove them in the data preprocessing step."
      ]
    },
    {
      "cell_type": "markdown",
      "metadata": {
        "id": "0uWt7b34jx_d",
        "colab_type": "text"
      },
      "source": [
        "Understanding the distribution of the drugs among the conditons is also important for our usecase so that we do not end up taking conditions with many drugs."
      ]
    },
    {
      "cell_type": "code",
      "metadata": {
        "id": "4K02wnrAkUff",
        "colab_type": "code",
        "colab": {}
      },
      "source": [
        "condition_dn = data.groupby(['condition'])['drugName'].nunique().sort_values(ascending=False)\n",
        "condition_dn[0:20].plot(kind=\"bar\", figsize = (14,6), fontsize = 10,color=\"blue\")\n",
        "plt.xlabel(\"Condition\", fontsize = 20)\n",
        "plt.ylabel(\"Number of Drugs\", fontsize = 20)\n",
        "plt.title(\"The Number of Drugs per Condition (top 20)\", fontsize = 20)"
      ],
      "execution_count": null,
      "outputs": []
    },
    {
      "cell_type": "markdown",
      "metadata": {
        "id": "i8PytjVqqu-G",
        "colab_type": "text"
      },
      "source": [
        "As we would expect, generic conditions like pain and birth control seem to have a high number of reviews."
      ]
    },
    {
      "cell_type": "markdown",
      "metadata": {
        "id": "l7no22GzkEAm",
        "colab_type": "text"
      },
      "source": [
        "Let's see the same thing for the bottom 20 conditions."
      ]
    },
    {
      "cell_type": "code",
      "metadata": {
        "id": "sYFubeIdG8es",
        "colab_type": "code",
        "colab": {}
      },
      "source": [
        "condition_dn = data.groupby(['condition'])['drugName'].nunique().sort_values(ascending=True)\n",
        "condition_dn[0:20].plot(kind=\"bar\", figsize = (14,6), fontsize = 10,color=\"blue\")\n",
        "plt.xlabel(\"Condition\", fontsize = 20)\n",
        "plt.ylabel(\"Number of Drugs\", fontsize = 20)\n",
        "plt.title(\"The Number of Drugs per Condition (bottom 20)\", fontsize = 20)"
      ],
      "execution_count": null,
      "outputs": []
    },
    {
      "cell_type": "markdown",
      "metadata": {
        "id": "3Png0z_Uq6bL",
        "colab_type": "text"
      },
      "source": [
        "There are many conditions with just one drug. These don't help with our usecase so let's remove them in the data preprocessing as well."
      ]
    },
    {
      "cell_type": "markdown",
      "metadata": {
        "id": "bYeQNM0vsMKo",
        "colab_type": "text"
      },
      "source": [
        "## Data Preprocessing"
      ]
    },
    {
      "cell_type": "code",
      "metadata": {
        "colab_type": "code",
        "id": "Y-3YP-hYpSnE",
        "colab": {}
      },
      "source": [
        "# Drop missing rows\n",
        "data = data.dropna(axis=0)"
      ],
      "execution_count": null,
      "outputs": []
    },
    {
      "cell_type": "markdown",
      "metadata": {
        "id": "hm2mhtCZ3q3R",
        "colab_type": "text"
      },
      "source": [
        "Since the features 'date' and 'usefulCount' were not useful for our problem statement, we decided to drop them."
      ]
    },
    {
      "cell_type": "code",
      "metadata": {
        "id": "sdjEff56pIEk",
        "colab_type": "code",
        "colab": {}
      },
      "source": [
        "# Drop date and useful count\n",
        "data = data.drop(['date', 'usefulCount'], axis = 1) "
      ],
      "execution_count": null,
      "outputs": []
    },
    {
      "cell_type": "code",
      "metadata": {
        "id": "iSNWQXXNpgyQ",
        "colab_type": "code",
        "colab": {}
      },
      "source": [
        "# Remove the anomalies\n",
        "data = data[~data.condition.str.contains(\"</span>\")]\n",
        "data = data[~data.condition.str.contains(\"Not Listed / Othe\")]"
      ],
      "execution_count": null,
      "outputs": []
    },
    {
      "cell_type": "code",
      "metadata": {
        "id": "DxVoBeemldYV",
        "colab_type": "code",
        "colab": {
          "base_uri": "https://localhost:8080/",
          "height": 35
        },
        "outputId": "fd2d0747-20af-4f4d-fe2b-211313117639"
      },
      "source": [
        "print(\"Size of data after preprocessing: \", data.shape)"
      ],
      "execution_count": null,
      "outputs": [
        {
          "output_type": "stream",
          "text": [
            "Size of data after preprocessing:  (212106, 6)\n"
          ],
          "name": "stdout"
        }
      ]
    },
    {
      "cell_type": "markdown",
      "metadata": {
        "id": "_guuIzZ5JQCj",
        "colab_type": "text"
      },
      "source": [
        "## Data Reduction"
      ]
    },
    {
      "cell_type": "markdown",
      "metadata": {
        "id": "oU-I7bklJWHk",
        "colab_type": "text"
      },
      "source": [
        "There are three ways we could do this:\n",
        "\n",
        "1) Random sampling\n",
        "\n",
        "2) K means clustering and then choosing a subset of data from each clusters.\n",
        "\n",
        "3) Reduce the number of conditons"
      ]
    },
    {
      "cell_type": "markdown",
      "metadata": {
        "id": "IxcXXZ7s6IX8",
        "colab_type": "text"
      },
      "source": [
        "Unfortuntely due to the huge size of our data, we could not implement K-Means clustering and with random sampling we may lose some important information. \n",
        "\n",
        "So we decided to go ahead with the third option of reducing the number of conditions.\n",
        "\n"
      ]
    },
    {
      "cell_type": "markdown",
      "metadata": {
        "id": "9LXurDnqAZ0z",
        "colab_type": "text"
      },
      "source": [
        "Looking at the top conditons with most reviews, the most intuitive choice would be to go with top 'N' conditions. <br>\n",
        "However we made a few decisions to support the choice of going with the below and here's why - <br>\n",
        "- Removed conditons with less than 10 reviews.\n",
        "- Removed conditions which are very generic (Ex: Cough, Fever, Pain) even though they had more reviews than the below 4. <br>\n",
        "- To ensure each condition we select has almost comparable number of reviews. (Ex: removed birth control since it had too high number of reviews).\n",
        "- It should also have a decent distribution of positive and negative reviews.\n",
        "\n",
        "The Chosen Conditions:\n",
        "1. Diabetes, Type 2\n",
        "2. Bipolar Disorder\n",
        "3. ADHD\n",
        "4. High Blood Pressure\n",
        "\n"
      ]
    },
    {
      "cell_type": "markdown",
      "metadata": {
        "id": "RJ1CzOC3gzQI",
        "colab_type": "text"
      },
      "source": [
        "The below code implements the steps mentioned above."
      ]
    },
    {
      "cell_type": "code",
      "metadata": {
        "id": "l0dCZ_uNRnep",
        "colab_type": "code",
        "colab": {
          "base_uri": "https://localhost:8080/"
        },
        "outputId": "bd935154-f319-4ddf-9229-560fce05b540"
      },
      "source": [
        "# Remove conditions that are generic or have a high number of reviews\n",
        "data = data[~data.condition.isin(['Birth Control','Anxiety' ,'Depression', 'Pain', 'Fever', 'Cough'])]\n",
        "data.shape"
      ],
      "execution_count": null,
      "outputs": [
        {
          "output_type": "execute_result",
          "data": {
            "text/plain": [
              "(144225, 6)"
            ]
          },
          "metadata": {
            "tags": []
          },
          "execution_count": 72
        }
      ]
    },
    {
      "cell_type": "code",
      "metadata": {
        "id": "n_3PWBYSkdhR",
        "colab_type": "code",
        "colab": {
          "base_uri": "https://localhost:8080/"
        },
        "outputId": "e5d3e22f-9e2c-462c-ccea-90d5b634cf29"
      },
      "source": [
        "# Remove conditions with with less than 2000 reviews\n",
        "df_conditions = list(data['condition'].value_counts()[data['condition'].value_counts()<=2000].index)\n",
        "data = data[~data['condition'].isin(df_conditions)]\n",
        "data.shape"
      ],
      "execution_count": null,
      "outputs": [
        {
          "output_type": "execute_result",
          "data": {
            "text/plain": [
              "(63723, 6)"
            ]
          },
          "metadata": {
            "tags": []
          },
          "execution_count": 73
        }
      ]
    },
    {
      "cell_type": "code",
      "metadata": {
        "id": "ryXnr8dZlrhg",
        "colab_type": "code",
        "colab": {
          "base_uri": "https://localhost:8080/"
        },
        "outputId": "8b7336fd-3adb-4322-e222-fb811fd3517e"
      },
      "source": [
        "print(\"Number of unique conditions after removing above conditions: \", data['condition'].unique().shape[0])"
      ],
      "execution_count": null,
      "outputs": [
        {
          "output_type": "stream",
          "text": [
            "Number of unique conditions after removing above conditions:  18\n"
          ],
          "name": "stdout"
        }
      ]
    },
    {
      "cell_type": "markdown",
      "metadata": {
        "id": "Ins8O50EmKq1",
        "colab_type": "text"
      },
      "source": [
        "This has decreased the number of unique conditions from 917 to 18."
      ]
    },
    {
      "cell_type": "code",
      "metadata": {
        "id": "claPYkkfdGEV",
        "colab_type": "code",
        "colab": {
          "base_uri": "https://localhost:8080/"
        },
        "outputId": "1e69752d-32a7-4be0-8008-983aa2136847"
      },
      "source": [
        "# Remove drugs with with less than 10 reviews\n",
        "df_drugs = list(data['drugName'].value_counts()[data['drugName'].value_counts()<10].index)\n",
        "data = data[~data['drugName'].isin(df_drugs)]\n",
        "data.shape"
      ],
      "execution_count": null,
      "outputs": [
        {
          "output_type": "execute_result",
          "data": {
            "text/plain": [
              "(62327, 6)"
            ]
          },
          "metadata": {
            "tags": []
          },
          "execution_count": 75
        }
      ]
    },
    {
      "cell_type": "code",
      "metadata": {
        "id": "4AxL3pOqRUjY",
        "colab_type": "code",
        "colab": {
          "base_uri": "https://localhost:8080/"
        },
        "outputId": "44c0ea90-483e-4ee6-907c-699c3f304c64"
      },
      "source": [
        "# stacked bar plot\n",
        "#Get values from the group and categories\n",
        "N = 20\n",
        "\n",
        "conditions_list = list(data['condition'].value_counts().sort_values(ascending=False)[0:N].index)\n",
        "condition_count = data[data['condition'].isin(conditions_list)].groupby(['condition'])['sentiment'].value_counts()\n",
        "\n",
        "colors = [ 'red', 'green']\n",
        "\n",
        "rcParams['figure.figsize'] = 20, 7\n",
        "s_sort = condition_count.groupby(level=[0]).sum().sort_values(ascending=False)\n",
        "df_sorted = condition_count.reindex(index=s_sort.index, level=0)\n",
        "df_sorted.unstack().plot.bar(stacked=True, color=colors, title=\"Distribution of Sentiment over Top 10 Conditions (Stacked Bar Plot)\", rot=45)"
      ],
      "execution_count": null,
      "outputs": [
        {
          "output_type": "execute_result",
          "data": {
            "text/plain": [
              "<matplotlib.axes._subplots.AxesSubplot at 0x7f08b8585c18>"
            ]
          },
          "metadata": {
            "tags": []
          },
          "execution_count": 76
        },
        {
          "output_type": "display_data",
          "data": {
            "image/png": "[encoded data removed]",
            "text/plain": [
              "<Figure size 1440x504 with 1 Axes>"
            ]
          },
          "metadata": {
            "tags": [],
            "needs_background": "light"
          }
        }
      ]
    },
    {
      "cell_type": "markdown",
      "metadata": {
        "id": "f1xXRVeweqhq",
        "colab_type": "text"
      },
      "source": [
        "Subset the data based on the chosen conditions"
      ]
    },
    {
      "cell_type": "code",
      "metadata": {
        "id": "TJ0K750CCBdu",
        "colab_type": "code",
        "colab": {
          "base_uri": "https://localhost:8080/"
        },
        "outputId": "5eef8161-3122-4be1-db26-dd6e6a55f1a6"
      },
      "source": [
        "# List of chosen conditions\n",
        "condition_list = ['Bipolar Disorde', 'ADHD', 'Diabetes, Type 2', 'High Blood Pressure']\n",
        "\n",
        "data_subset = data[data[\"condition\"].isin(condition_list)]\n",
        "data_subset.shape"
      ],
      "execution_count": null,
      "outputs": [
        {
          "output_type": "execute_result",
          "data": {
            "text/plain": [
              "(15965, 6)"
            ]
          },
          "metadata": {
            "tags": []
          },
          "execution_count": 77
        }
      ]
    },
    {
      "cell_type": "markdown",
      "metadata": {
        "id": "Wb6cD88oHQ6j",
        "colab_type": "text"
      },
      "source": [
        "## To run a simpler version of the notebook, please run the below code. If not, please skip this step.\n",
        "\n",
        "This will reduce the number of observations to 2000."
      ]
    },
    {
      "cell_type": "code",
      "metadata": {
        "colab_type": "code",
        "id": "lUrvui_TKJFz",
        "colab": {
          "base_uri": "https://localhost:8080/",
          "height": 36
        },
        "outputId": "cf33f6f7-aeba-4023-9ab0-99e738995a54"
      },
      "source": [
        "data_subset = data_subset.sample(n=2000, random_state=123)\n",
        "data_subset.shape"
      ],
      "execution_count": null,
      "outputs": [
        {
          "output_type": "execute_result",
          "data": {
            "text/plain": [
              "(2000, 6)"
            ]
          },
          "metadata": {
            "tags": []
          },
          "execution_count": 62
        }
      ]
    },
    {
      "cell_type": "markdown",
      "metadata": {
        "id": "kK774SCrmEGr",
        "colab_type": "text"
      },
      "source": [
        "## Expolatory Data Analysis on Reduced Dataset"
      ]
    },
    {
      "cell_type": "code",
      "metadata": {
        "scrolled": true,
        "id": "BiXcuYMwkUf7",
        "colab_type": "code",
        "colab": {
          "base_uri": "https://localhost:8080/",
          "height": 35
        },
        "outputId": "7031196c-136c-4d1b-ca82-b8262590c996"
      },
      "source": [
        "conditions_count = data_subset.condition.unique().shape[0]\n",
        "print(\"Number of unique conditions in subset data: \", conditions_count)"
      ],
      "execution_count": null,
      "outputs": [
        {
          "output_type": "stream",
          "text": [
            "Number of unique conditions in subset data:  4\n"
          ],
          "name": "stdout"
        }
      ]
    },
    {
      "cell_type": "code",
      "metadata": {
        "id": "ruHeQDpGWTL0",
        "colab_type": "code",
        "colab": {
          "base_uri": "https://localhost:8080/",
          "height": 35
        },
        "outputId": "2003228b-eb65-4dde-eda6-1cb70ee9efd9"
      },
      "source": [
        "print(\"Number of unique drugs: \", data_subset.drugName.unique().shape[0])"
      ],
      "execution_count": null,
      "outputs": [
        {
          "output_type": "stream",
          "text": [
            "Number of unique drugs:  187\n"
          ],
          "name": "stdout"
        }
      ]
    },
    {
      "cell_type": "code",
      "metadata": {
        "id": "MTbRk5wVUl40",
        "colab_type": "code",
        "colab": {
          "base_uri": "https://localhost:8080/",
          "height": 476
        },
        "outputId": "421dfedb-d541-4f56-a04c-736975702cf6"
      },
      "source": [
        "# Count of each label\n",
        "rcParams['figure.figsize'] = 10, 7\n",
        "sns.set_style(\"darkgrid\")\n",
        "sns.countplot(data_subset.sentiment, palette=[\"green\", \"red\"]).set_title(\"Distribution of Sentiment Labels\")"
      ],
      "execution_count": null,
      "outputs": [
        {
          "output_type": "execute_result",
          "data": {
            "text/plain": [
              "Text(0.5, 1.0, 'Distribution of Sentiment Labels')"
            ]
          },
          "metadata": {
            "tags": []
          },
          "execution_count": 53
        },
        {
          "output_type": "display_data",
          "data": {
            "image/png": "[encoded data removed]",
            "text/plain": [
              "<Figure size 720x504 with 1 Axes>"
            ]
          },
          "metadata": {
            "tags": []
          }
        }
      ]
    },
    {
      "cell_type": "markdown",
      "metadata": {
        "id": "ST6ncY3yhGQu",
        "colab_type": "text"
      },
      "source": [
        "Like mentioned earlier, this imbalance in our dataset is handled during modeling!"
      ]
    },
    {
      "cell_type": "code",
      "metadata": {
        "id": "tykd1_m5kUgD",
        "colab_type": "code",
        "colab": {
          "base_uri": "https://localhost:8080/",
          "height": 544
        },
        "outputId": "c01efa8a-0b6d-4639-f6c2-aeb69aee84cc"
      },
      "source": [
        "# stacked bar plot\n",
        "\n",
        "conditions_list = list(data_subset['condition'].value_counts().sort_values(ascending=False).index)\n",
        "condition_count = data_subset[data_subset['condition'].isin(conditions_list)].groupby(['condition'])['sentiment'].value_counts()\n",
        "\n",
        "colors = [ 'red', 'green']\n",
        "\n",
        "rcParams['figure.figsize'] = 20, 7\n",
        "s_sort = condition_count.groupby(level=[0]).sum().sort_values(ascending=False)\n",
        "df_sorted = condition_count.reindex(index=s_sort.index, level=0)\n",
        "df_sorted.unstack().plot.bar(stacked=True, color=colors, title=\"Distribution of Sentiment over Conditions (Stacked Bar Plot)\", rot=45)"
      ],
      "execution_count": null,
      "outputs": [
        {
          "output_type": "execute_result",
          "data": {
            "text/plain": [
              "<matplotlib.axes._subplots.AxesSubplot at 0x7fa7cff79a20>"
            ]
          },
          "metadata": {
            "tags": []
          },
          "execution_count": 54
        },
        {
          "output_type": "display_data",
          "data": {
            "image/png": "[encoded data removed]",
            "text/plain": [
              "<Figure size 1440x504 with 1 Axes>"
            ]
          },
          "metadata": {
            "tags": []
          }
        }
      ]
    },
    {
      "cell_type": "markdown",
      "metadata": {
        "id": "ANxgnFuSTuAR",
        "colab_type": "text"
      },
      "source": [
        "There isn't a big difference between number of reviews for each condition."
      ]
    },
    {
      "cell_type": "code",
      "metadata": {
        "id": "4E5WfHGTUl-J",
        "colab_type": "code",
        "colab": {
          "base_uri": "https://localhost:8080/",
          "height": 526
        },
        "outputId": "11b3e967-8700-4edc-eb28-7b7000fee467"
      },
      "source": [
        "condition_dn = data_subset.groupby(['condition'])['drugName'].nunique().sort_values(ascending=False)\n",
        "condition_dn.plot(kind=\"bar\", figsize = (14,6), fontsize = 10,color=\"blue\")\n",
        "plt.xlabel(\"Condition\", fontsize = 20)\n",
        "plt.ylabel(\"Number of Drugs\", fontsize = 20)\n",
        "plt.title(\"The Number of Drugs per Condition\", fontsize = 20)"
      ],
      "execution_count": null,
      "outputs": [
        {
          "output_type": "execute_result",
          "data": {
            "text/plain": [
              "Text(0.5, 1.0, 'The Number of Drugs per Condition')"
            ]
          },
          "metadata": {
            "tags": []
          },
          "execution_count": 55
        },
        {
          "output_type": "display_data",
          "data": {
            "image/png": "[encoded data removed]",
            "text/plain": [
              "<Figure size 1008x432 with 1 Axes>"
            ]
          },
          "metadata": {
            "tags": []
          }
        }
      ]
    },
    {
      "cell_type": "markdown",
      "metadata": {
        "id": "grBKanOahbkH",
        "colab_type": "text"
      },
      "source": [
        "All the conditions have almost the same number of reviews and unique drugs. This will help us to indentify the most and least favourable drugs in each condition."
      ]
    },
    {
      "cell_type": "markdown",
      "metadata": {
        "id": "qJbmeTGOkUgH",
        "colab_type": "text"
      },
      "source": [
        "## Tokenizer Function"
      ]
    },
    {
      "cell_type": "code",
      "metadata": {
        "id": "rhFkoVzzkUgH",
        "colab_type": "code",
        "colab": {}
      },
      "source": [
        "# Advanced Tokenizer\n",
        "\n",
        "def adv_tokenizer(doc, model=en, \n",
        "                  replace_entities=False, \n",
        "                  stop_words=False, \n",
        "                  lowercase=True, \n",
        "                  alpha_only=True, \n",
        "                  lemma=True):\n",
        "    \"\"\"Full tokenizer with flags for processing steps\n",
        "    replace_entities: If True, replaces with entity type\n",
        "    stop_words: If False, removes stop words\n",
        "    lowercase: If True, lowercases all tokens\n",
        "    alpha_only: If True, removes all non-alpha characters\n",
        "    lemma: If True, lemmatizes words\n",
        "    \"\"\"\n",
        "    parsed = model(doc)\n",
        "    # token collector\n",
        "    tokens = []\n",
        "    # index pointer\n",
        "    i = 0\n",
        "    # entity collector\n",
        "    ent = ''\n",
        "    for t in parsed:\n",
        "        # only need this if we're replacing entities\n",
        "        if replace_entities:\n",
        "            # replace URLs\n",
        "            if t.like_url:\n",
        "                tokens.append('URL')\n",
        "                continue\n",
        "            # if there's entities collected and current token is non-entity\n",
        "            if (t.ent_iob_=='O')&(ent!=''):\n",
        "                tokens.append(ent)\n",
        "                ent = ''\n",
        "                continue\n",
        "            elif t.ent_iob_!='O':\n",
        "                ent = t.ent_type_\n",
        "                continue\n",
        "        # only include stop words if stop words==True\n",
        "        #if (t.is_stop) & (not stop_words):\n",
        "        if (t.is_stop):\n",
        "            continue\n",
        "        # only include non-alpha is alpha_only==False\n",
        "        if (not t.is_alpha)&(alpha_only):\n",
        "            continue\n",
        "        if lemma:\n",
        "            t = t.lemma_\n",
        "        else:\n",
        "            t = t.text\n",
        "        if lowercase:\n",
        "            t.lower() \n",
        "        tokens.append(t)   \n",
        "    return tokens"
      ],
      "execution_count": null,
      "outputs": []
    },
    {
      "cell_type": "markdown",
      "metadata": {
        "id": "TAIgjEOnmQ7f",
        "colab_type": "text"
      },
      "source": [
        "## Tokenization & Word Count"
      ]
    },
    {
      "cell_type": "markdown",
      "metadata": {
        "id": "7QlcmfEPns4s",
        "colab_type": "text"
      },
      "source": [
        "\n",
        "### Split Positive and Negative reviews for Word Counts"
      ]
    },
    {
      "cell_type": "code",
      "metadata": {
        "id": "p54-ghP6kUgK",
        "colab_type": "code",
        "colab": {}
      },
      "source": [
        "reviews_pos = data_subset[data_subset[\"sentiment\"]==\"positive\"].review\n",
        "reviews_neg = data_subset[data_subset[\"sentiment\"]==\"negative\"].review\n",
        "\n",
        "reviews = reviews_pos.append(reviews_neg)"
      ],
      "execution_count": null,
      "outputs": []
    },
    {
      "cell_type": "markdown",
      "metadata": {
        "id": "lQIaCuX1JKPU",
        "colab_type": "text"
      },
      "source": [
        "### Tokenization Design"
      ]
    },
    {
      "cell_type": "markdown",
      "metadata": {
        "id": "jS7cv4M5BvYl",
        "colab_type": "text"
      },
      "source": [
        "Function to return the top N tokens using Count Vectorizer"
      ]
    },
    {
      "cell_type": "code",
      "metadata": {
        "id": "Ut8BXwnbkUgT",
        "colab_type": "code",
        "colab": {}
      },
      "source": [
        "# Function to return the top N tokens using Count Vectorizer\n",
        "def top_N_words(text, N=10, model=en, replace_entities=False, stopwords=False, lowercase=True, alpha_only=True, lemma=True, min_df=1, max_df=1.0, ngram=1):\n",
        "  # running this on negative reviews\n",
        "  cv = CountVectorizer(tokenizer=lambda text: adv_tokenizer(text, model=model, \n",
        "                                                            lemma=lemma, \n",
        "                                                            replace_entities=replace_entities,\n",
        "                                                            lowercase=lowercase, \n",
        "                                                            stop_words=stopwords,\n",
        "                                                            alpha_only=alpha_only), min_df=min_df, max_df=max_df, ngram_range=(ngram,ngram))\n",
        "  \n",
        "  cv_vectors = cv.fit_transform(text).toarray()\n",
        "  # get_feature_names gets the vocabulary of the vectorizer in order\n",
        "  word_count = dict(zip(cv.get_feature_names(), cv_vectors.sum(axis=0)))\n",
        "  # get the top 10 words\n",
        "  return sorted(word_count.items(), key=lambda x: x[1], reverse=True)[:N]"
      ],
      "execution_count": null,
      "outputs": []
    },
    {
      "cell_type": "code",
      "metadata": {
        "id": "LjVYEOCCkUgV",
        "colab_type": "code",
        "colab": {
          "base_uri": "https://localhost:8080/",
          "height": 201
        },
        "outputId": "be223264-6e78-4f2b-a474-ea8c65e89d3e"
      },
      "source": [
        "print(\"Top words present in the whole reviews corpus:\")\n",
        "print(top_N_words(reviews, N=20), '\\n')\n",
        "\n",
        "print(\"Top words present in the positive review corpus:\")\n",
        "print(top_N_words(reviews_pos, N=20), '\\n')\n",
        "\n",
        "print(\"Top words present in the negative review corpus:\")\n",
        "print(top_N_words(reviews_neg, N=20), '\\n')"
      ],
      "execution_count": null,
      "outputs": [
        {
          "output_type": "stream",
          "text": [
            "Top words present in the whole reviews corpus:\n",
            "[('mg', 8667), ('taking', 6300), ('effects', 5323), ('day', 5132), ('started', 4616), ('years', 4577), ('feel', 4343), ('like', 4245), ('medication', 4219), ('blood', 3708), ('time', 3506), ('medicine', 3354), ('months', 3160), ('weight', 3065), ('life', 2911), ('doctor', 2861), ('weeks', 2656), ('days', 2609), ('pressure', 2470), ('better', 2431)] \n",
            "\n",
            "Top words present in the positive review corpus:\n",
            "[('mg', 6547), ('taking', 4253), ('effects', 3960), ('years', 3725), ('day', 3720), ('feel', 3259), ('started', 3181), ('like', 3063), ('medication', 2937), ('blood', 2562), ('life', 2544), ('medicine', 2486), ('time', 2407), ('weight', 2328), ('months', 2237), ('better', 1963), ('great', 1892), ('doctor', 1865), ('good', 1780), ('bipolar', 1765)] \n",
            "\n",
            "Top words present in the negative review corpus:\n",
            "[('mg', 2120), ('taking', 2047), ('started', 1435), ('day', 1412), ('effects', 1363), ('medication', 1282), ('like', 1182), ('blood', 1146), ('time', 1099), ('feel', 1084), ('took', 1012), ('doctor', 996), ('drug', 982), ('days', 974), ('weeks', 931), ('months', 923), ('medicine', 868), ('years', 852), ('pressure', 809), ('week', 787)] \n",
            "\n"
          ],
          "name": "stdout"
        }
      ]
    },
    {
      "cell_type": "markdown",
      "metadata": {
        "id": "nZw4BKiYtnYp",
        "colab_type": "text"
      },
      "source": [
        "Though removing the default stop words, the top words do not really convey much information. Hence, let's add more stopwords to the model like mg, feel, take, day, years, etc.\n",
        "\n",
        "Also, some words like \"aren't\", \"couldn't\", \"no\", \"not\", etc. convey information related to the negative sentiment. So, it's best if we do not remove those to help the classification perform better."
      ]
    },
    {
      "cell_type": "markdown",
      "metadata": {
        "id": "xZ3AfzUsHiZp",
        "colab_type": "text"
      },
      "source": [
        "### Adding and Removing Stopwords"
      ]
    },
    {
      "cell_type": "code",
      "metadata": {
        "id": "Y1J_75v4pAdw",
        "colab_type": "code",
        "colab": {
          "base_uri": "https://localhost:8080/",
          "height": 243
        },
        "outputId": "db3204ec-e092-4a8b-b1ef-1c8509eb40b6"
      },
      "source": [
        "# # Facing an error with this\n",
        "\n",
        "remove_from_default_stopwords = [\"aren't\",\"couldn't\",\"didn't\",\"doesn't\",\"don't\",\n",
        "                    \"hadn't\",\"hasn't\",\"haven't\",\"isn't\",\"mightn't\",\n",
        "                    \"mustn't\",\"needn't\",\"shan't\",\n",
        "                    \"shouldn't\",\"wasn't\",\"weren't\",\"wouldn't\"]\n",
        "\n",
        "for word in remove_from_default_stopwords:\n",
        "  if en.vocab[word].is_stop:\n",
        "    en.Defaults.stop_words.remove(word)\n",
        "    en.vocab[word].is_stop = False \n"
      ],
      "execution_count": null,
      "outputs": [
        {
          "output_type": "error",
          "ename": "NameError",
          "evalue": "ignored",
          "traceback": [
            "\u001b[0;31m---------------------------------------------------------------------------\u001b[0m",
            "\u001b[0;31mNameError\u001b[0m                                 Traceback (most recent call last)",
            "\u001b[0;32m<ipython-input-4-89e879e3fd82>\u001b[0m in \u001b[0;36m<module>\u001b[0;34m()\u001b[0m\n\u001b[1;32m      7\u001b[0m \u001b[0;34m\u001b[0m\u001b[0m\n\u001b[1;32m      8\u001b[0m \u001b[0;32mfor\u001b[0m \u001b[0mword\u001b[0m \u001b[0;32min\u001b[0m \u001b[0mremove_from_default_stopwords\u001b[0m\u001b[0;34m:\u001b[0m\u001b[0;34m\u001b[0m\u001b[0;34m\u001b[0m\u001b[0m\n\u001b[0;32m----> 9\u001b[0;31m   \u001b[0;32mif\u001b[0m \u001b[0men\u001b[0m\u001b[0;34m.\u001b[0m\u001b[0mvocab\u001b[0m\u001b[0;34m[\u001b[0m\u001b[0mword\u001b[0m\u001b[0;34m]\u001b[0m\u001b[0;34m.\u001b[0m\u001b[0mis_stop\u001b[0m\u001b[0;34m:\u001b[0m\u001b[0;34m\u001b[0m\u001b[0;34m\u001b[0m\u001b[0m\n\u001b[0m\u001b[1;32m     10\u001b[0m     \u001b[0men\u001b[0m\u001b[0;34m.\u001b[0m\u001b[0mDefaults\u001b[0m\u001b[0;34m.\u001b[0m\u001b[0mstop_words\u001b[0m\u001b[0;34m.\u001b[0m\u001b[0mremove\u001b[0m\u001b[0;34m(\u001b[0m\u001b[0mword\u001b[0m\u001b[0;34m)\u001b[0m\u001b[0;34m\u001b[0m\u001b[0;34m\u001b[0m\u001b[0m\n\u001b[1;32m     11\u001b[0m     \u001b[0men\u001b[0m\u001b[0;34m.\u001b[0m\u001b[0mvocab\u001b[0m\u001b[0;34m[\u001b[0m\u001b[0mword\u001b[0m\u001b[0;34m]\u001b[0m\u001b[0;34m.\u001b[0m\u001b[0mis_stop\u001b[0m \u001b[0;34m=\u001b[0m \u001b[0;32mFalse\u001b[0m\u001b[0;34m\u001b[0m\u001b[0;34m\u001b[0m\u001b[0m\n",
            "\u001b[0;31mNameError\u001b[0m: name 'en' is not defined"
          ]
        }
      ]
    },
    {
      "cell_type": "code",
      "metadata": {
        "id": "dOkl-e5xkbGE",
        "colab_type": "code",
        "colab": {}
      },
      "source": [
        "add_stop_words = [\"feel\", \"feeling\", \"feels\", \n",
        "                  \"take\", \"takes\",\"taking\", \"took\", \"taken\",\n",
        "                  \"mg\", \"effect\", \"effects\", \n",
        "                  \"like\", \"liking\", \"likes\",\n",
        "                  \"day\", \"week\", \"month\", \"year\", \"time\",\n",
        "                  \"days\", \"weeks\", \"months\", \"years\", \"times\",\n",
        "                  \"medication\", \"medicine\", \"medications\", \"medicines\",\n",
        "                  \"doctor\", \"doctors\",\n",
        "                  \"start\", \"starting\", \"starts\", \"started\",\n",
        "                  \"work\", \"works\", \"working\",\n",
        "                  \"go\", \"going\", \"goes\",\n",
        "                  \"blood\", \"pressure\",\n",
        "                  \"bipolar\", \"disorder\"]\n",
        "\n",
        "for word in add_stop_words:\n",
        "    if not en.vocab[word].is_stop:\n",
        "      en.Defaults.stop_words.add(word)\n",
        "      en.vocab[word].is_stop = True \n"
      ],
      "execution_count": null,
      "outputs": []
    },
    {
      "cell_type": "markdown",
      "metadata": {
        "id": "eiB-5sYPHts9",
        "colab_type": "text"
      },
      "source": [
        "### Word Count"
      ]
    },
    {
      "cell_type": "code",
      "metadata": {
        "id": "6ph6TMCttouB",
        "colab_type": "code",
        "colab": {
          "base_uri": "https://localhost:8080/",
          "height": 201
        },
        "outputId": "270966bc-ab71-453e-b7dd-3770a107ead2"
      },
      "source": [
        "print(\"Top words present in the whole reviews corpus:\")\n",
        "print(top_N_words(reviews, N=10), '\\n')\n",
        "\n",
        "print(\"Top words present in the positive review corpus:\")\n",
        "print(top_N_words(reviews_pos, N=10), '\\n')\n",
        "\n",
        "print(\"Top words present in the negative review corpus:\")\n",
        "print(top_N_words(reviews_neg, N=10), '\\n')"
      ],
      "execution_count": null,
      "outputs": [
        {
          "output_type": "stream",
          "text": [
            "Top words present in the whole reviews corpus:\n",
            "[('weight', 3065), ('life', 2911), ('better', 2431), ('drug', 2418), ('dose', 2233), ('good', 2231), ('great', 2205), ('night', 2082), ('sleep', 2077), ('adhd', 2052)] \n",
            "\n",
            "Top words present in the positive review corpus:\n",
            "[('life', 2544), ('weight', 2328), ('better', 1963), ('great', 1892), ('good', 1780), ('adhd', 1667), ('dose', 1580), ('depression', 1496), ('sleep', 1466), ('night', 1449)] \n",
            "\n",
            "Top words present in the negative review corpus:\n",
            "[('drug', 982), ('felt', 773), ('weight', 737), ('pain', 678), ('went', 657), ('dose', 653), ('bad', 649), ('night', 633), ('stopped', 616), ('sleep', 611)] \n",
            "\n"
          ],
          "name": "stdout"
        }
      ]
    },
    {
      "cell_type": "markdown",
      "metadata": {
        "id": "xgnCz-ZLuqnV",
        "colab_type": "text"
      },
      "source": [
        "The distinction in words seems a bit more obvious like:\n",
        "\n",
        "great, good, better, life in the positive corpus.\n",
        "\n",
        "pain, bad, stopped, severe, etc. in the negative corpus."
      ]
    },
    {
      "cell_type": "markdown",
      "metadata": {
        "id": "WGCp-OMwwKvd",
        "colab_type": "text"
      },
      "source": [
        "Running bigrams crashed the system so we did not go ahead with it."
      ]
    },
    {
      "cell_type": "code",
      "metadata": {
        "id": "YtYDakJlkUgZ",
        "colab_type": "code",
        "colab": {
          "base_uri": "https://localhost:8080/",
          "height": 35
        },
        "outputId": "533920af-3bd0-4b24-f489-526d70e7a32a"
      },
      "source": [
        "# print(\"Top bigrams present in the positive review corpus:\")\n",
        "# print(top_N_words(reviews_pos, N=20, ngram=2), '\\n')\n",
        "\n",
        "# print(\"Top bigrams present in the negative review corpus:\")\n",
        "# print(top_N_words(reviews_neg, N=20, mngram=2), '\\n')"
      ],
      "execution_count": null,
      "outputs": [
        {
          "output_type": "stream",
          "text": [
            "Top bigrams present in the whole reviews corpus:\n"
          ],
          "name": "stdout"
        }
      ]
    },
    {
      "cell_type": "markdown",
      "metadata": {
        "id": "i8sC08oy8ekq",
        "colab_type": "text"
      },
      "source": [
        "## Most Favorable/Least Favorable Drug Within Each Condition"
      ]
    },
    {
      "cell_type": "markdown",
      "metadata": {
        "id": "aTMzckTG8r54",
        "colab_type": "text"
      },
      "source": [
        "The intent is to identify the most favorable product and least favorable product in each condition. \n",
        "\n",
        "For the purpose of this analysis, we designed a 'favorabilty' score i.e. defined as the difference of positive reviews and negative reviews for each drug within each condition. \n",
        "\n",
        "Why we chose to identify most favorable and least favorable drug for each conditions Vs combined for all conditions? - Because each drug works differently for different conditions. The same drug could use to treat a condition but could have side effects which cause symptoms of a different condition. So the scores of a drug treated for one condition cannot be compared with those of a different condition."
      ]
    },
    {
      "cell_type": "code",
      "metadata": {
        "id": "tAbShVbL8lQh",
        "colab_type": "code",
        "colab": {
          "base_uri": "https://localhost:8080/",
          "height": 271
        },
        "outputId": "0a092e2e-8fc9-47ce-a6b7-53f56e8c0120"
      },
      "source": [
        "groupby_Carrier = data_subset.groupby(['condition', 'drugName', 'sentiment'])['uniqueID'].count().unstack(level = 2)\n",
        "groupby_Carrier_na = groupby_Carrier.fillna(0)\n",
        "groupby_Carrier_na[\"pos - neg\"] = groupby_Carrier_na.positive - groupby_Carrier_na.negative\n",
        "\n",
        "most_fav = pd.DataFrame(groupby_Carrier_na.groupby(['condition'])['pos - neg'].nlargest(1))\n",
        "least_fav = pd.DataFrame(groupby_Carrier_na.groupby(['condition'])['pos - neg'].nsmallest(1))\n",
        "\n",
        "print(\"Most Favorable Drug for Each Condition:\" , most_fav)\n",
        "print('\\n')\n",
        "print(\"Least Favorable Drug for Each Condition:\", least_fav)\n"
      ],
      "execution_count": null,
      "outputs": [
        {
          "output_type": "stream",
          "text": [
            "Most Favorable Drug for Each Condition:                                                           pos - neg\n",
            "condition           condition           drugName                   \n",
            "ADHD                ADHD                Lisdexamfetamine      332.0\n",
            "Bipolar Disorde     Bipolar Disorde     Lamotrigine           397.0\n",
            "Diabetes, Type 2    Diabetes, Type 2    Liraglutide           239.0\n",
            "High Blood Pressure High Blood Pressure Olmesartan             52.0\n",
            "\n",
            "\n",
            "Least Favorable Drug for Each Condition:                                                     pos - neg\n",
            "condition           condition           drugName             \n",
            "ADHD                ADHD                Mydayis          -3.0\n",
            "Bipolar Disorde     Bipolar Disorde     Celexa           -1.0\n",
            "Diabetes, Type 2    Diabetes, Type 2    Tradjenta       -10.0\n",
            "High Blood Pressure High Blood Pressure Amlodipine      -54.0\n"
          ],
          "name": "stdout"
        }
      ]
    },
    {
      "cell_type": "code",
      "metadata": {
        "id": "30jTkoOv_Vg4",
        "colab_type": "code",
        "colab": {
          "base_uri": "https://localhost:8080/",
          "height": 326
        },
        "outputId": "a1670792-b343-4f9f-efbe-2092ed8d3247"
      },
      "source": [
        "print(\"Top words for the most favorable drug of each condition:\")\n",
        "mostFav = []\n",
        "for i in range(4):\n",
        "  a = data_subset.loc[((data_subset['condition'] == most_fav.index[i][1] ) & \n",
        "                     (data_subset['drugName'] == most_fav.index[i][2]) &\n",
        "                     (data_subset['sentiment'] == 'positive')), \"review\"]\n",
        "  mostFav.append(top_N_words(a, N=5, model=en, ngram=2))\n",
        "  print(\"Drug Name: \", most_fav.index[i][2])\n",
        "  print(\"Condition Name: \", most_fav.index[i][1])\n",
        "  print(\"Top Bigrams: \", mostFav[i],'\\n')\n",
        "\n"
      ],
      "execution_count": null,
      "outputs": [
        {
          "output_type": "stream",
          "text": [
            "Top words for the most favorable drug of each condition:\n",
            "Drug Name:  Lisdexamfetamine\n",
            "Condition Name:  ADHD\n",
            "Top Bigrams:  [('diagnosed adhd', 51), ('changed life', 31), ('dry mouth', 30), ('adderall xr', 28), ('high school', 28)] \n",
            "\n",
            "Drug Name:  Lamotrigine\n",
            "Condition Name:  Bipolar Disorde\n",
            "Top Bigrams:  [('mood swings', 44), ('saved life', 36), ('changed life', 29), ('bi polar', 23), ('weight gain', 21)] \n",
            "\n",
            "Drug Name:  Liraglutide\n",
            "Condition Name:  Diabetes, Type 2\n",
            "Top Bigrams:  [('lost lbs', 59), ('weight loss', 58), ('lost pounds', 56), ('victoza ago', 39), ('victoza lost', 22)] \n",
            "\n",
            "Drug Name:  Olmesartan\n",
            "Condition Name:  High Blood Pressure\n",
            "Top Bigrams:  [('benicar hct', 14), ('leg cramps', 6), ('sex drive', 5), ('benicar hctz', 3), ('benicar high', 3)] \n",
            "\n"
          ],
          "name": "stdout"
        }
      ]
    },
    {
      "cell_type": "markdown",
      "metadata": {
        "id": "ILe5Cf8uTHmO",
        "colab_type": "text"
      },
      "source": [
        "Condition 1, Drug : Looks like the positive aspect mood alleviator <br> \n",
        "Condition 2, Drug : Helps with weight loss <br>\n",
        "Condition 3, Drug : No clear trend <br>\n",
        "Conditon 4, Drug : Helps with reducing migrane attacks  <br>"
      ]
    },
    {
      "cell_type": "markdown",
      "metadata": {
        "id": "iMPtBlf6nyZT",
        "colab_type": "text"
      },
      "source": [
        "## Count Vectorization & TF-IDF"
      ]
    },
    {
      "cell_type": "code",
      "metadata": {
        "id": "PFVbWo8NvEJD",
        "colab_type": "code",
        "colab": {}
      },
      "source": [
        "# Fit Count Vectorizer and TF-IDF models based on the chosen tokenization strategy\n",
        "cv = CountVectorizer(tokenizer=adv_tokenizer)\n",
        "cv_vecs = cv.fit_transform(reviews).toarray()\n",
        "\n",
        "tfidf = TfidfVectorizer(tokenizer=adv_tokenizer)\n",
        "tfidf_vecs = tfidf.fit_transform(reviews).toarray()"
      ],
      "execution_count": null,
      "outputs": []
    },
    {
      "cell_type": "code",
      "metadata": {
        "id": "78lnZra26_O4",
        "colab_type": "code",
        "colab": {
          "base_uri": "https://localhost:8080/",
          "height": 35
        },
        "outputId": "2b1c690b-0751-4c26-bba8-8942876bc439"
      },
      "source": [
        "print(cv_vecs.shape)"
      ],
      "execution_count": null,
      "outputs": [
        {
          "output_type": "stream",
          "text": [
            "(15965, 13367)\n"
          ],
          "name": "stdout"
        }
      ]
    },
    {
      "cell_type": "markdown",
      "metadata": {
        "id": "P_mBYFX3CNFV",
        "colab_type": "text"
      },
      "source": [
        "There are more than 9000 token or words in the whole corpus"
      ]
    },
    {
      "cell_type": "markdown",
      "metadata": {
        "id": "jGCPqYzpvBH4",
        "colab_type": "text"
      },
      "source": [
        "## NMF & LDA"
      ]
    },
    {
      "cell_type": "markdown",
      "metadata": {
        "id": "IroK2h-cEYh3",
        "colab_type": "text"
      },
      "source": [
        "Since we have 4 conditions (which in a sense are the main themes) in our dataset, we thought it would be interesting to see the topic model results with number of components as 4. "
      ]
    },
    {
      "cell_type": "markdown",
      "metadata": {
        "id": "INPYaLi3E0yJ",
        "colab_type": "text"
      },
      "source": [
        "Note: Plotting the reconstruction error and ELBO for different number of components did not yield useful results and took a long tim to run."
      ]
    },
    {
      "cell_type": "code",
      "metadata": {
        "id": "q6CcJvxiYGeB",
        "colab_type": "code",
        "colab": {}
      },
      "source": [
        "conditions_count = data_subset.condition.unique().shape[0]\n",
        "\n",
        "# Number of components based on the number of conditions in the data\n",
        "n_comp = conditions_count\n",
        "\n",
        "nmf = NMF(n_components=n_comp)\n",
        "nmf_vecs = nmf.fit_transform(tfidf_vecs)\n",
        "\n",
        "lda = LatentDirichletAllocation(n_components=n_comp)\n",
        "lda_vecs = lda.fit_transform(cv_vecs)"
      ],
      "execution_count": null,
      "outputs": []
    },
    {
      "cell_type": "markdown",
      "metadata": {
        "id": "0GSl1XvO1rzD",
        "colab_type": "text"
      },
      "source": [
        "### Reconstruction Error and ELBO plot\n",
        "\n",
        "We plotted the avove performance measures for a increasing number of components and it did not give results and took ages to run. So we decided not show the results here, but we thought it's worth mentioning."
      ]
    },
    {
      "cell_type": "code",
      "metadata": {
        "id": "SyV4oQicD10n",
        "colab_type": "code",
        "colab": {}
      },
      "source": [
        "# # Iterate over multiple n_components\n",
        "# # Plot the measures for each component to see the change\n",
        "\n",
        "# number_comp = []\n",
        "# recon_err = []\n",
        "# lda_bound = []\n",
        "\n",
        "# for n in range(2,30,2):\n",
        "#   # NMF using the simple tokenizer\n",
        "#   nmf = NMF(n_components=n)\n",
        "#   nmf_vecs = nmf.fit_transform(tfidf_vecs)\n",
        "\n",
        "#   # LDA Vectors using the simple tokenizer\n",
        "#   lda = LatentDirichletAllocation(n_components=n)\n",
        "#   lda_vecs = lda.fit_transform(cv_vecs)\n",
        "\n",
        "#   number_comp.append(n)\n",
        "#   recon_err.append(nmf.reconstruction_err_)\n",
        "#   lda_bound.append(lda.bound_)"
      ],
      "execution_count": null,
      "outputs": []
    },
    {
      "cell_type": "code",
      "metadata": {
        "id": "TRYVWdaJvL2U",
        "colab_type": "code",
        "colab": {}
      },
      "source": [
        "# rcParams['figure.figsize'] = 20, 8\n",
        "\n",
        "# # Plot the reconstruction error vs number of components\n",
        "# plt.subplot(1,2,1)\n",
        "# plt.plot(number_comp, recon_err)\n",
        "# plt.ylabel('NMF Reconstruction Error')\n",
        "# plt.xlabel('Number of Components')\n",
        "\n",
        "# # Plot the LDA bound vs number of components\n",
        "# plt.subplot(1,2,2)\n",
        "# plt.plot(number_comp, lda_bound)\n",
        "# plt.ylabel('ELBO')\n",
        "# plt.xlabel('Number of Components')\n",
        "# plt.show()"
      ],
      "execution_count": null,
      "outputs": []
    },
    {
      "cell_type": "markdown",
      "metadata": {
        "id": "8dds6CLe3Lvx",
        "colab_type": "text"
      },
      "source": [
        "### Display top words in each topic"
      ]
    },
    {
      "cell_type": "code",
      "metadata": {
        "id": "xGhNinK3Dhzw",
        "colab_type": "code",
        "colab": {}
      },
      "source": [
        "def display_components(model, word_features, top_display=5):\n",
        "    # utility for displaying respresentative words per component for topic models\n",
        "    for topic_idx, topic in enumerate(model.components_):\n",
        "        print(\"Topic %d:\" % (topic_idx+1))\n",
        "        top_words_idx = topic.argsort()[::-1][:top_display]\n",
        "        top_words = [word_features[i] for i in top_words_idx]\n",
        "        print(\" \".join(top_words))"
      ],
      "execution_count": null,
      "outputs": []
    },
    {
      "cell_type": "code",
      "metadata": {
        "id": "VLD9yhQzDpl4",
        "colab_type": "code",
        "colab": {
          "base_uri": "https://localhost:8080/",
          "height": 162
        },
        "outputId": "a79695fc-5784-47c8-e9ff-edef0aab3f66"
      },
      "source": [
        "# condition_list = ['Bipolar Disorde', 'ADHD', 'Diabetes, Type 2', 'High Blood Pressure']\n",
        "\n",
        "display_components(nmf, tfidf.get_feature_names())"
      ],
      "execution_count": null,
      "outputs": [
        {
          "output_type": "stream",
          "text": [
            "Topic 1:\n",
            "adhd vyvanse adderall school focus\n",
            "Topic 2:\n",
            "sugar victoza nausea lost metformin\n",
            "Topic 3:\n",
            "life depression sleep anxiety lamictal\n",
            "Topic 4:\n",
            "weight gain great gained pounds\n"
          ],
          "name": "stdout"
        }
      ]
    },
    {
      "cell_type": "code",
      "metadata": {
        "id": "7OtpVuwkH9GP",
        "colab_type": "code",
        "colab": {
          "base_uri": "https://localhost:8080/",
          "height": 162
        },
        "outputId": "1f786c15-ed90-4d1b-8b33-3d731dcdf2b3"
      },
      "source": [
        "display_components(lda, cv.get_feature_names())"
      ],
      "execution_count": null,
      "outputs": [
        {
          "output_type": "stream",
          "text": [
            "Topic 1:\n",
            "depression weight life mood anxiety\n",
            "Topic 2:\n",
            "weight lost sugar nausea eat\n",
            "Topic 3:\n",
            "bp heart pain drug high\n",
            "Topic 4:\n",
            "adhd adderall vyvanse school life\n"
          ],
          "name": "stdout"
        }
      ]
    },
    {
      "cell_type": "code",
      "metadata": {
        "id": "ITUSlxgjDA4O",
        "colab_type": "code",
        "colab": {
          "base_uri": "https://localhost:8080/",
          "height": 72
        },
        "outputId": "a5e785b8-f403-499d-9d5a-b5c03292f41b"
      },
      "source": [
        "print(tfidf_vecs.shape)\n",
        "print(nmf.components_.shape)\n",
        "print(lda.components_.shape)"
      ],
      "execution_count": null,
      "outputs": [
        {
          "output_type": "stream",
          "text": [
            "(15965, 13367)\n",
            "(4, 13367)\n",
            "(4, 13367)\n"
          ],
          "name": "stdout"
        }
      ]
    },
    {
      "cell_type": "code",
      "metadata": {
        "id": "HYbTSj13CjUV",
        "colab_type": "code",
        "colab": {
          "base_uri": "https://localhost:8080/",
          "height": 53
        },
        "outputId": "6c50a42a-dd09-4751-a108-4617bd09ba3f"
      },
      "source": [
        "print('Topic model measure values:')\n",
        "print('No. of Components: '+str(n_comp)+ '  NMF Reconstruction Error: '+str(nmf.reconstruction_err_)+'  LDA Bound: '+str(lda.bound_))"
      ],
      "execution_count": null,
      "outputs": [
        {
          "output_type": "stream",
          "text": [
            "Topic model measure values:\n",
            "No. of Components: 4  NMF Reconstruction Error: 124.11445735051464  LDA Bound: 1895.2152156321686\n"
          ],
          "name": "stdout"
        }
      ]
    },
    {
      "cell_type": "markdown",
      "metadata": {
        "id": "D5ycJoOR9WKO",
        "colab_type": "text"
      },
      "source": [
        "###Visualize topics from LDA - Using pyLDAvis"
      ]
    },
    {
      "cell_type": "code",
      "metadata": {
        "id": "ZoUw1Atm9vUV",
        "colab_type": "code",
        "colab": {
          "base_uri": "https://localhost:8080/",
          "height": 461
        },
        "outputId": "107ca877-b598-4983-ed10-de22bf8ef85f"
      },
      "source": [
        "# LDA\n",
        "topicnames = ['Topic_' + str(i) for i in range(lda.n_components)]\n",
        "\n",
        "docnames = ['Doc_' + str(i) for i in range(len(reviews))]\n",
        "\n",
        "df_document_topic = pd.DataFrame(np.round(lda_vecs,2), columns=topicnames, index=docnames)\n",
        "\n",
        "df_document_topic['dominant_topic'] = np.argmax(df_document_topic.values, axis=1)\n",
        "df_document_topic.head()\n",
        "\n",
        "sns.countplot(df_document_topic.dominant_topic)"
      ],
      "execution_count": null,
      "outputs": [
        {
          "output_type": "execute_result",
          "data": {
            "text/plain": [
              "<matplotlib.axes._subplots.AxesSubplot at 0x7f86c9df09e8>"
            ]
          },
          "metadata": {
            "tags": []
          },
          "execution_count": 93
        },
        {
          "output_type": "display_data",
          "data": {
            "image/png": "[encoded data removed]",
            "text/plain": [
              "<Figure size 1440x504 with 1 Axes>"
            ]
          },
          "metadata": {
            "tags": [],
            "needs_background": "light"
          }
        }
      ]
    },
    {
      "cell_type": "code",
      "metadata": {
        "id": "m1g7c4WX-F9Z",
        "colab_type": "code",
        "colab": {}
      },
      "source": [
        "import pyLDAvis\n",
        "import pyLDAvis.sklearn\n",
        "\n",
        "dtm = np.matrix(cv_vecs)\n",
        "panel = pyLDAvis.sklearn.prepare(lda, dtm, cv, mds='tsne')\n",
        "pyLDAvis.display(panel)"
      ],
      "execution_count": null,
      "outputs": []
    },
    {
      "cell_type": "markdown",
      "metadata": {
        "id": "gSbsyErZ8yBF",
        "colab_type": "text"
      },
      "source": [
        "## Cosine Similarity\n",
        "\n",
        "\n"
      ]
    },
    {
      "cell_type": "code",
      "metadata": {
        "id": "ZLpKcEzo86Br",
        "colab_type": "code",
        "colab": {}
      },
      "source": [
        "# Take the average cosine similarity for for each type of vector\n",
        "\n",
        "count_sims = cosine_similarity(cv_vecs)\n",
        "tfidf_sims = cosine_similarity(tfidf_vecs)\n",
        "nmf_sims = cosine_similarity(nmf_vecs)\n",
        "lda_sims = cosine_similarity(lda_vecs)"
      ],
      "execution_count": null,
      "outputs": []
    },
    {
      "cell_type": "code",
      "metadata": {
        "id": "iePY54bIXclH",
        "colab_type": "code",
        "colab": {}
      },
      "source": [
        "# Most similar review\n",
        "all_text = list(reviews)\n",
        "\n",
        "def most_similar_review(model_sims):\n",
        "  random_idx = np.random.randint(len(all_text))\n",
        "  print(all_text[random_idx]+'\\n'+\n",
        "      all_text[model_sims[random_idx].argsort()[::-1][:2][1]])"
      ],
      "execution_count": null,
      "outputs": []
    },
    {
      "cell_type": "code",
      "metadata": {
        "id": "_DwRJD_m45jN",
        "colab_type": "code",
        "colab": {
          "base_uri": "https://localhost:8080/",
          "height": 73
        },
        "outputId": "74a98765-9fd1-47de-c9c5-7fb02d3a8c0e"
      },
      "source": [
        "# Most similar review using NMF with simple tokenizer\n",
        "most_similar_review(lda_sims)"
      ],
      "execution_count": null,
      "outputs": [
        {
          "output_type": "stream",
          "text": [
            "\"I&#039;ve been battling high blood pressure for 30  years and this medicine combined with Carvedilol seems to be working the best for me thus far. It&#039;s taken approximately 3 months in order to get the blood pressure under control. I was running around 180/90 and now measure 120/60 average. If you start this medicine be patient and give it time to work. I&#039;ve experienced virtually no side effects so far....knock on wood.\"\n",
            "\"(2/2) from 0.6 to 1.2 I know my digestive system has slowed way down My doctor prescribed Metonia and Domperidone to counteract these side effects which seems to be working for me  I also notice my appetite has continued to be low and I get full very quickly my blood sugar stabilized with 3-4 day after starting the Victoza and despite the side effects I am happy with this medication but hope not to be on it long term as I worry about long term side effects I would recommend this\"\n"
          ],
          "name": "stdout"
        }
      ]
    },
    {
      "cell_type": "code",
      "metadata": {
        "id": "63fM_Bqi_oNt",
        "colab_type": "code",
        "colab": {}
      },
      "source": [
        "first_neg = len(reviews_pos)\n",
        "  \n",
        "def avg_cosine_similarity(sims_matrix):\n",
        "  print('pos-to-pos:', sims_matrix[:first_neg, :first_neg].mean(axis=1).mean(),'\\n'\n",
        "        'pos-to-neg:', sims_matrix[:first_neg, first_neg:].mean(axis=1).mean(),'\\n'\n",
        "        'neg-to-neg:', sims_matrix[first_neg:, first_neg:].mean(axis=1).mean(),'\\n')"
      ],
      "execution_count": null,
      "outputs": []
    },
    {
      "cell_type": "code",
      "metadata": {
        "id": "sTbM9H0yAc4G",
        "colab_type": "code",
        "colab": {
          "base_uri": "https://localhost:8080/",
          "height": 526
        },
        "outputId": "1dd4e02a-0152-4310-9bad-4231cbc2499e"
      },
      "source": [
        "print('Average Cosine Similarity using Counts:')\n",
        "avg_cosine_similarity(count_sims)\n",
        "print('\\n')\n",
        "\n",
        "print('Average Cosine Similarity using TF-IDF:')\n",
        "avg_cosine_similarity(tfidf_sims)\n",
        "print('\\n')\n",
        "\n",
        "print('Average Cosine Similarity using NMF:')\n",
        "avg_cosine_similarity(nmf_sims)\n",
        "print('\\n')\n",
        "\n",
        "print('Average Cosine Similarity using LDA:')\n",
        "avg_cosine_similarity(lda_sims)\n",
        "print('\\n')"
      ],
      "execution_count": null,
      "outputs": [
        {
          "output_type": "stream",
          "text": [
            "Average Cosine Similarity using Counts:\n",
            "pos-to-pos: 0.03227800949140951 \n",
            "pos-to-neg: 0.02558259986034973 \n",
            "neg-to-neg: 0.027068882014788787 \n",
            "\n",
            "\n",
            "\n",
            "Average Cosine Similarity using TF-IDF:\n",
            "pos-to-pos: 0.01780512318166461 \n",
            "pos-to-neg: 0.01413496641638943 \n",
            "neg-to-neg: 0.015573363626237556 \n",
            "\n",
            "\n",
            "\n",
            "Average Cosine Similarity using NMF:\n",
            "pos-to-pos: 0.4906255154542053 \n",
            "pos-to-neg: 0.5104528662309917 \n",
            "neg-to-neg: 0.5558269225964763 \n",
            "\n",
            "\n",
            "\n",
            "Average Cosine Similarity using LDA:\n",
            "pos-to-pos: 0.38758857400731633 \n",
            "pos-to-neg: 0.37363811685649256 \n",
            "neg-to-neg: 0.43014802446566947 \n",
            "\n",
            "\n",
            "\n"
          ],
          "name": "stdout"
        }
      ]
    },
    {
      "cell_type": "markdown",
      "metadata": {
        "id": "8-ndGhleU900",
        "colab_type": "text"
      },
      "source": [
        "Counts and TF-IDF do a better job at seperating reviews from the two classes"
      ]
    },
    {
      "cell_type": "markdown",
      "metadata": {
        "id": "OD6-nYm_sxAp",
        "colab_type": "text"
      },
      "source": [
        "## Split data into Train, Validation and Test set"
      ]
    },
    {
      "cell_type": "code",
      "metadata": {
        "id": "2zFnPE-zQStz",
        "colab_type": "code",
        "colab": {
          "base_uri": "https://localhost:8080/"
        },
        "outputId": "943b5cb5-40cb-4115-b94e-d981da4a6c5c"
      },
      "source": [
        "# Set train and validation percentages\n",
        "pct_train = 0.8\n",
        "pct_val = 0.3\n",
        "np.random.seed(123)\n",
        "\n",
        "# Split data into train and test\n",
        "train_bool = np.random.random(len(data_subset)) <= pct_train\n",
        "train = data_subset[train_bool]\n",
        "test = data_subset[~train_bool]\n",
        "\n",
        "# Split Train into train and validation \n",
        "val_bool = np.random.random(size=len(train)) <= pct_val\n",
        "val = train[val_bool]\n",
        "train = train[~val_bool]\n",
        "\n",
        "print(\"Train Size:      \", train.shape)\n",
        "print(\"Validation size: \", val.shape)\n",
        "print(\"Test size:       \", test.shape)"
      ],
      "execution_count": null,
      "outputs": [
        {
          "output_type": "stream",
          "text": [
            "Train Size:       (8965, 6)\n",
            "Validation size:  (3841, 6)\n",
            "Test size:        (3159, 6)\n"
          ],
          "name": "stdout"
        }
      ]
    },
    {
      "cell_type": "markdown",
      "metadata": {
        "id": "owqeU15hwZwk",
        "colab_type": "text"
      },
      "source": [
        "## GolVe Embedding (Document-Level Average)"
      ]
    },
    {
      "cell_type": "markdown",
      "metadata": {
        "id": "MXExoVnG2TXW",
        "colab_type": "text"
      },
      "source": [
        "### Load GloVe vectors text file"
      ]
    },
    {
      "cell_type": "code",
      "metadata": {
        "id": "82XSkrGwIM8z",
        "colab_type": "code",
        "colab": {
          "base_uri": "https://localhost:8080/",
          "height": 53
        },
        "outputId": "4a099c77-028a-4c72-965b-e832b5701d6e"
      },
      "source": [
        "# Unzip the file containing the GloVe vectors\n",
        "!unzip \"/content/Sentiment-Analysis-of-Drug-Reviews/Data Files/glove.6B.200d.txt.zip\" -d \"/content/Sentiment-Analysis-of-Drug-Reviews/Data Files\""
      ],
      "execution_count": null,
      "outputs": [
        {
          "output_type": "stream",
          "text": [
            "Archive:  /content/Sentiment-Analysis-of-Drug-Reviews/Data Files/glove.6B.200d.txt.zip\n",
            "  inflating: /content/Sentiment-Analysis-of-Drug-Reviews/Data Files/glove.6B.200d.txt  \n"
          ],
          "name": "stdout"
        }
      ]
    },
    {
      "cell_type": "code",
      "metadata": {
        "id": "6YGrW-Cv3qQQ",
        "colab_type": "code",
        "colab": {
          "base_uri": "https://localhost:8080/",
          "height": 35
        },
        "outputId": "e9effb12-6de1-4be8-c374-5a3e7522f756"
      },
      "source": [
        "# Load the text file containing the words and its GloVe vectors to a dictionary \n",
        "glove_embedding_dict={}\n",
        "with open(file_path + '/glove.6B.200d.txt','r') as f:\n",
        "    for line in f:\n",
        "        values=line.split()\n",
        "        word=values[0]\n",
        "        vectors=np.asarray(values[1:])\n",
        "        glove_embedding_dict[word]=vectors\n",
        "f.close()\n",
        "\n",
        "# Number of words present in the dictionary\n",
        "print(len(glove_embedding_dict))"
      ],
      "execution_count": null,
      "outputs": [
        {
          "output_type": "stream",
          "text": [
            "151503\n"
          ],
          "name": "stdout"
        }
      ]
    },
    {
      "cell_type": "markdown",
      "metadata": {
        "id": "RbSqFpBx2Ya5",
        "colab_type": "text"
      },
      "source": [
        "### Obtain GloVe vectors"
      ]
    },
    {
      "cell_type": "code",
      "metadata": {
        "id": "qGYiz-3Y-Vsl",
        "colab_type": "code",
        "colab": {}
      },
      "source": [
        "# Function to take the doc-level average of the glove vectors\n",
        "def glove_embedding_doc_level(data):\n",
        "  doc_level_embedding = pd.DataFrame()\n",
        "  # Tokenize each text in the data\n",
        "  for doc in data.review:\n",
        "    parsed = adv_tokenizer(doc)\n",
        "    word_id = 0\n",
        "    word_embeddings = np.zeros(shape=(len(doc), 200))\n",
        "    # Get the word embedding for each word from the dictionary above\n",
        "    for word in parsed:\n",
        "      word_embeddings[word_id] = glove_embedding_dict.get(word)\n",
        "      word_id=+1\n",
        "    # Take the mean of each dimension (column) which gives the doc-level average\n",
        "    doc_level_embedding = doc_level_embedding.append(pd.DataFrame(word_embeddings).mean(axis=0), ignore_index=True)\n",
        "\n",
        "  print(doc_level_embedding.shape)\n",
        "  return doc_level_embedding"
      ],
      "execution_count": null,
      "outputs": []
    },
    {
      "cell_type": "code",
      "metadata": {
        "id": "RZ3T3WcCQgbG",
        "colab_type": "code",
        "colab": {
          "base_uri": "https://localhost:8080/",
          "height": 72
        },
        "outputId": "58209f0c-6700-4526-f49b-b0e168aba26a"
      },
      "source": [
        "glove_train = glove_embedding_doc_level(train)\n",
        "glove_val = glove_embedding_doc_level(val)\n",
        "glove_test = glove_embedding_doc_level(test)"
      ],
      "execution_count": null,
      "outputs": [
        {
          "output_type": "stream",
          "text": [
            "(8965, 200)\n",
            "(3841, 200)\n",
            "(3159, 200)\n"
          ],
          "name": "stdout"
        }
      ]
    },
    {
      "cell_type": "code",
      "metadata": {
        "id": "Api0Ww1rH3TW",
        "colab_type": "code",
        "colab": {}
      },
      "source": [
        "# Save the vectors for future use\n",
        "# glove_train.to_pickle('glove_train.pkl')\n",
        "# glove_val.to_pickle('glove_val.pkl')\n",
        "# glove_test.to_pickle('glove_test.pkl')"
      ],
      "execution_count": null,
      "outputs": []
    },
    {
      "cell_type": "markdown",
      "metadata": {
        "id": "0xQ32CJF2eN8",
        "colab_type": "text"
      },
      "source": [
        "### Plot GloVe vectors\n",
        "\n",
        "Plotting the GloVe vectors to see if there are any visible clusters."
      ]
    },
    {
      "cell_type": "code",
      "metadata": {
        "id": "Tf1PzsUn0D44",
        "colab_type": "code",
        "colab": {
          "base_uri": "https://localhost:8080/",
          "height": 513
        },
        "outputId": "a6139156-9cba-400d-ab1d-a86f648217de"
      },
      "source": [
        "rcParams['figure.figsize'] = 10, 8\n",
        "\n",
        "N = 200\n",
        "\n",
        "# Take the first 200 vectors\n",
        "labels = train[\"sentiment\"].apply(lambda sent: True if  sent == 'positive' \n",
        "                                         else False)\n",
        "\n",
        "label = labels[0:N]\n",
        "vectors = glove_train[:N]\n",
        "colors = ['red','green']\n",
        "\n",
        "# Initialise TSNE\n",
        "tsne = TSNE(n_components=2)\n",
        "# Reduce to two dimensions\n",
        "Y = tsne.fit_transform(vectors)\n",
        "\n",
        "# Plot seed words\n",
        "plt.scatter(Y[:, 0], Y[:, 1], c=label, cmap=matplotlib.colors.ListedColormap(colors))\n",
        "\n",
        "plt.xlabel('tSNE Component 1')\n",
        "plt.ylabel('tSNE Component 2')\n",
        "plt.title('t-SNE representation of GloVe vectors')\n",
        "\n",
        "plt.show()"
      ],
      "execution_count": null,
      "outputs": [
        {
          "output_type": "display_data",
          "data": {
            "image/png": "[encoded data removed]",
            "text/plain": [
              "<Figure size 720x576 with 1 Axes>"
            ]
          },
          "metadata": {
            "tags": [],
            "needs_background": "light"
          }
        }
      ]
    },
    {
      "cell_type": "markdown",
      "metadata": {
        "id": "bVrDfp5O-CD6",
        "colab_type": "text"
      },
      "source": [
        "Unfortunetly this did not provide us with any good information."
      ]
    },
    {
      "cell_type": "markdown",
      "metadata": {
        "id": "_SjW0eONyIK-",
        "colab_type": "text"
      },
      "source": [
        "## ElMo (Document-Level Average)\n",
        "\n",
        "We tried implementing ELMo and it worked fine on small data but when we ran it on our reduced datatset, it did not stop running and we ran it for more than 2 hours. Hence, we omitted this from our project due to lack of computational power.\n",
        "\n",
        "Unfortuntely, we could not code it in such a way it uses the GPU."
      ]
    },
    {
      "cell_type": "code",
      "metadata": {
        "id": "5c-O1oOJ3emJ",
        "colab_type": "code",
        "colab": {}
      },
      "source": [
        "# elmo = ElmoEmbedder()"
      ],
      "execution_count": null,
      "outputs": []
    },
    {
      "cell_type": "code",
      "metadata": {
        "id": "mVnFqlqBb8gI",
        "colab_type": "code",
        "colab": {}
      },
      "source": [
        "# def elmo_embedding_doc_level(data):\n",
        "#   # Tokenize each document\n",
        "#   token_docs = [adv_tokenizer(d) for d in data.review]\n",
        "  \n",
        "#   # Get ELMo embeddings of each word in each tokenized document\n",
        "#   # [-1] -> To get the last set of ELMo embeddings\n",
        "#   elmo_vecs = [elmo.embed_sentence(d)[-1] for d in token_docs]\n",
        "\n",
        "#   # Take the mean of each dimension (column) which gives the doc-level average\n",
        "#   doc_level_embedding = [word_vectors.mean(axis=0) for word_vectors in elmo_vecs]\n",
        "#   # Convert to Df\n",
        "#   doc_level_embedding = pd.DataFrame(doc_level_embedding)\n",
        "#   print(doc_level_embedding.shape)\n",
        "#   return doc_level_embedding"
      ],
      "execution_count": null,
      "outputs": []
    },
    {
      "cell_type": "code",
      "metadata": {
        "id": "5y4D5JCu5gUj",
        "colab_type": "code",
        "colab": {}
      },
      "source": [
        "# elmo_train = elmo_embedding_doc_level(train)\n",
        "# elmo_val = elmo_embedding_doc_level(val)\n",
        "# elmo_test = elmo_embedding_doc_level(test)"
      ],
      "execution_count": null,
      "outputs": []
    },
    {
      "cell_type": "code",
      "metadata": {
        "id": "i0T_xlyV208b",
        "colab_type": "code",
        "colab": {}
      },
      "source": [
        "# rcParams['figure.figsize'] = 10, 8\n",
        "\n",
        "# N = 200\n",
        "\n",
        "# # Take the first 200 vectors\n",
        "# labels = train[\"sentiment\"].apply(lambda sent: True if  sent == 'positive' \n",
        "#                                          else False)\n",
        "\n",
        "# label = labels[0:N]\n",
        "# vectors = elmo_train[:N]\n",
        "# colors = ['red','green']\n",
        "\n",
        "# # Initialise TSNE\n",
        "# tsne = TSNE(n_components=2)\n",
        "# # Reduce to two dimensions\n",
        "# Y = tsne.fit_transform(vectors)\n",
        "\n",
        "# # Plot seed words\n",
        "# plt.scatter(Y[:, 0], Y[:, 1], c=label, cmap=matplotlib.colors.ListedColormap(colors))\n",
        "\n",
        "# plt.xlabel('tSNE Component 1')\n",
        "# plt.ylabel('tSNE Component 2')\n",
        "# plt.title('t-SNE representation of ELMo vectors')\n",
        "\n",
        "# plt.show()"
      ],
      "execution_count": null,
      "outputs": []
    },
    {
      "cell_type": "markdown",
      "metadata": {
        "id": "w1KRnnI_z6Dm",
        "colab_type": "text"
      },
      "source": [
        "## DistilBERT (Document-Level Representation)\n",
        "\n",
        "Due to the domain-specific nature of our dataset, it does not really make sense to use embedding methods like GloVe which has the vectors for only a general corpus, with neither context nor domain knowledge.\n",
        "\n",
        "We wanted to tackle the issue of 'no context', using the famous DistilBERT model. \n"
      ]
    },
    {
      "cell_type": "code",
      "metadata": {
        "id": "4Ggj0Vw850NI",
        "colab_type": "code",
        "collapsed": true,
        "colab": {
          "base_uri": "https://localhost:8080/",
          "height": 168,
          "referenced_widgets": [
            "03f7b8b1361e4a84a2cdd03b2c3fb6bc",
            "100b35de3b7e4f52b004719f65ec1310",
            "d15f2e5799574b60bf0feb5234b370ca",
            "a2c9260827c14ccf816d1aaa793bb724",
            "aae62dd6aedc4841b0c023b4c890e2bb",
            "87112dc1a13c41ecb4e4cf4ace2f040e",
            "7304febeaac248af85c81685ad8ea5ad",
            "7ebd79548dea4d96b803ac13dd8a7a32",
            "7a95e6ab502443c9a92afd5404ddefd1",
            "5210ac91042140a5aefe83a0f4a70a93",
            "5945507c07a44cc4b95aee343ae53923",
            "b52aaf6ffc634bbe94ed830db535cfcd",
            "f55e4fa436c8498f95f39e44839dc5ef",
            "96bbd9bdf4ca47ac98d29a17a55ff6eb",
            "2625825da63f485b8f496aa29d662b68",
            "d234a356aac740ec8bd2c6ba6b250b61",
            "6e6f27acf8e34e36beea6f7f4290c7da",
            "6a59d9d42d7c4681ac20ff5d4e6df891",
            "ee4ea32d9ca947bd92253ad5e9abe968",
            "b852aaae62234246b65f22d8f000bcb5",
            "342e014f7b8e468f95befc15b8fc63b6",
            "482a381023724976b5c58979df826e51",
            "a52b902ca85f4b149feb274df68ea6b9",
            "7144c8a0074c446c9c696c916d489111"
          ]
        },
        "outputId": "9759feb4-9a9c-4f29-92fb-f08631f19797"
      },
      "source": [
        "# basic pretrained model (case-insensitive)\n",
        "MODEL_NAME = 'distilbert-base-uncased'\n",
        "# Load pre-trained model\n",
        "model = DistilBertModel.from_pretrained(MODEL_NAME)\n",
        "# Load pre-trained model tokenizer (vocabulary)\n",
        "tokenizer = DistilBertTokenizer.from_pretrained(MODEL_NAME)"
      ],
      "execution_count": null,
      "outputs": [
        {
          "output_type": "display_data",
          "data": {
            "application/vnd.jupyter.widget-view+json": {
              "model_id": "03f7b8b1361e4a84a2cdd03b2c3fb6bc",
              "version_minor": 0,
              "version_major": 2
            },
            "text/plain": [
              "HBox(children=(FloatProgress(value=0.0, description='Downloading', max=442.0, style=ProgressStyle(description_…"
            ]
          },
          "metadata": {
            "tags": []
          }
        },
        {
          "output_type": "stream",
          "text": [
            "\n"
          ],
          "name": "stdout"
        },
        {
          "output_type": "display_data",
          "data": {
            "application/vnd.jupyter.widget-view+json": {
              "model_id": "7a95e6ab502443c9a92afd5404ddefd1",
              "version_minor": 0,
              "version_major": 2
            },
            "text/plain": [
              "HBox(children=(FloatProgress(value=0.0, description='Downloading', max=267967963.0, style=ProgressStyle(descri…"
            ]
          },
          "metadata": {
            "tags": []
          }
        },
        {
          "output_type": "stream",
          "text": [
            "\n"
          ],
          "name": "stdout"
        },
        {
          "output_type": "display_data",
          "data": {
            "application/vnd.jupyter.widget-view+json": {
              "model_id": "6e6f27acf8e34e36beea6f7f4290c7da",
              "version_minor": 0,
              "version_major": 2
            },
            "text/plain": [
              "HBox(children=(FloatProgress(value=0.0, description='Downloading', max=231508.0, style=ProgressStyle(descripti…"
            ]
          },
          "metadata": {
            "tags": []
          }
        },
        {
          "output_type": "stream",
          "text": [
            "\n"
          ],
          "name": "stdout"
        }
      ]
    },
    {
      "cell_type": "code",
      "metadata": {
        "id": "nrbFLFroNZNf",
        "colab_type": "code",
        "colab": {
          "base_uri": "https://localhost:8080/",
          "height": 35
        },
        "outputId": "f63777bc-7ac7-4f8a-9265-625feb553409"
      },
      "source": [
        "# Delete variables that are no longer needed to save RAM\n",
        "import gc\n",
        "del train_data, test_data, data, data_subset\n",
        "gc.collect()"
      ],
      "execution_count": null,
      "outputs": [
        {
          "output_type": "execute_result",
          "data": {
            "text/plain": [
              "1125"
            ]
          },
          "metadata": {
            "tags": []
          },
          "execution_count": 43
        }
      ]
    },
    {
      "cell_type": "markdown",
      "metadata": {
        "id": "RgOR52QqqMa9",
        "colab_type": "text"
      },
      "source": [
        "The GPU kept crashing even when ran BERT on our coprus\n",
        "\n",
        "So we had to reduce two things to ensure it runs smoothly: Batch size, and Maximum length of each review.\n",
        "\n",
        "After running multiple iterations and trying different conbinations, this is the only one that worked. And anything above this, crashed the system.\n",
        "1. Batch size = 5\n",
        "2. Maximum lenght of each review = 200\n",
        "\n",
        "We do lose some information when we truncate the reviews to 200, but since majority of the reviews have around 250 tokens, the loss is not too much.\n"
      ]
    },
    {
      "cell_type": "code",
      "metadata": {
        "id": "3xT9Kgym0NFW",
        "colab_type": "code",
        "colab": {}
      },
      "source": [
        "def bert_embedding_doc_level(data):\n",
        "  st = 0\n",
        "\n",
        "  # batch-wise, otherwise tends to take a long time\n",
        "  batch_size = 5\n",
        "  batches = list(range(100, len(data), batch_size))+[len(data)]\n",
        "  doc_rep_collector = []\n",
        "  for b in batches:\n",
        "      tokens = tokenizer.batch_encode_plus(data['review'][st:b], \n",
        "                                           pad_to_max_length=True, max_length=200, truncation=True, \n",
        "                                           return_tensors=\"pt\")\n",
        "            \n",
        "      st = b\n",
        "      tokens = tokens.to(device)\n",
        "      model.to(device)\n",
        "      outputs = model(**tokens)\n",
        "      # taking the representation of the 'CLS' token (doc-level embedding)\n",
        "      doc_rep_collector.append(outputs[0][:,0].detach().cpu().numpy())\n",
        "  doc_rep_collector = np.concatenate(doc_rep_collector)\n",
        "  return doc_rep_collector"
      ],
      "execution_count": null,
      "outputs": []
    },
    {
      "cell_type": "code",
      "metadata": {
        "id": "cTr44ucA5VW3",
        "colab_type": "code",
        "colab": {
          "base_uri": "https://localhost:8080/",
          "height": 72
        },
        "outputId": "db6c531a-17b2-41b4-c996-74527f14158c"
      },
      "source": [
        "bert_train = bert_embedding_doc_level(train)\n",
        "bert_val = bert_embedding_doc_level(val)\n",
        "bert_test = bert_embedding_doc_level(test)\n",
        "\n",
        "print(bert_train.shape)\n",
        "print(bert_val.shape)\n",
        "print(bert_test.shape)"
      ],
      "execution_count": null,
      "outputs": [
        {
          "output_type": "stream",
          "text": [
            "(8965, 768)\n",
            "(3841, 768)\n",
            "(3159, 768)\n"
          ],
          "name": "stdout"
        }
      ]
    },
    {
      "cell_type": "code",
      "metadata": {
        "id": "HWBoL13ZeQfh",
        "colab_type": "code",
        "colab": {}
      },
      "source": [
        "## Save the BERT vectors for future use\n",
        "# np.save('bert_train_maxlen_200', bert_train)\n",
        "# np.save('bert_val_maxlen_200', bert_val)\n",
        "# np.save('bert_test_maxlen_200', bert_test)"
      ],
      "execution_count": null,
      "outputs": []
    },
    {
      "cell_type": "code",
      "metadata": {
        "id": "S4_r9JSeRBxJ",
        "colab_type": "code",
        "colab": {
          "base_uri": "https://localhost:8080/",
          "height": 35
        },
        "outputId": "037b1583-2a0c-414f-9db6-e4df95cec1fb"
      },
      "source": [
        "# Delete the created variables to save GPU\n",
        "import gc\n",
        "del bert_embedding_doc_level, model, tokenizer\n",
        "gc.collect()"
      ],
      "execution_count": null,
      "outputs": [
        {
          "output_type": "execute_result",
          "data": {
            "text/plain": [
              "103"
            ]
          },
          "metadata": {
            "tags": []
          },
          "execution_count": 48
        }
      ]
    },
    {
      "cell_type": "code",
      "metadata": {
        "id": "aaMU1eAvRIBj",
        "colab_type": "code",
        "colab": {}
      },
      "source": [
        "# # Check available GPU\n",
        "# torch.cuda.memory_summary(device=device, abbreviated=True)"
      ],
      "execution_count": null,
      "outputs": []
    },
    {
      "cell_type": "markdown",
      "metadata": {
        "id": "uSiUChP06b1F",
        "colab_type": "text"
      },
      "source": [
        "## BioBERT (Document-Level Representation)\n",
        "\n",
        "Now that we tried the BERT model which is great at including the context of the word while embedding it, we wanted to go a step further and include some domain knowledge as well i.e. biomedical terms. \n",
        "\n",
        "Cue in 'BioBERT'!\n",
        "\n",
        "It is very similar to BERT, but as you might have guessed, this is used specifically for biomedical data which is exactly what we were looking for. BioBERT  is  the  first  domain-specific  BERT  based  model  pre-trained  on  biomedical  corpora  for  23  days  on  eight  NVIDIAV100 GPUs. Though it's mainly used for NER, Relation extraction and Question & Answering, it can be used for word embeddings as well.\n",
        "\n",
        "The specific model that we are using is 'biobert_v1.1_pubmed' which has been train on Wikipedia, Books, and PubMed articles.\n",
        "\n",
        "For more information, check out the [BioBERT paper](https://https://arxiv.org/ftp/arxiv/papers/1901/1901.08746.pdf) written by the researchers of Korea University & Clova AI research group based in Korea."
      ]
    },
    {
      "cell_type": "markdown",
      "metadata": {
        "id": "BhbDpOvlof8y",
        "colab_type": "text"
      },
      "source": [
        "Note: Though the code is exactly the same as BERT, it took quite sometime to get hold of the models and understand how they work. This is mainly because BioBERT is not very widely used. "
      ]
    },
    {
      "cell_type": "code",
      "metadata": {
        "id": "KeLuDYUYBpR1",
        "colab_type": "code",
        "colab": {}
      },
      "source": [
        "# BioBERT model\n",
        "MODEL_NAME = 'monologg/biobert_v1.1_pubmed'\n",
        "\n",
        "# Load pre-trained model\n",
        "model = BertModel.from_pretrained(MODEL_NAME)\n",
        "# Load pre-trained model tokenizer (vocabulary)\n",
        "tokenizer = BertTokenizer.from_pretrained(MODEL_NAME)"
      ],
      "execution_count": null,
      "outputs": []
    },
    {
      "cell_type": "markdown",
      "metadata": {
        "id": "GbQHHxbFL6w_",
        "colab_type": "text"
      },
      "source": [
        "Similar to BERT, BioBERT also crashed when we ran it on our dataset. Unfortunetly, BioBERT did not run with the same configurations as BERT. We had to reduce the batch size and maximum length even further.\n",
        "\n",
        "This is the congiguration that worked,\n",
        "1. Batch Size = 1\n",
        "2. Maximum length = 125\n",
        "\n",
        "We end up losing more information than we did with BERT. (This will be seen in the classification section.)"
      ]
    },
    {
      "cell_type": "code",
      "metadata": {
        "colab_type": "code",
        "id": "_3b_rRRbQsZh",
        "colab": {}
      },
      "source": [
        "def biobert_embedding_doc_level(data):\n",
        "  st = 0\n",
        "  # batch-wise, otherwise tends to take a long time\n",
        "  batch_size = 1\n",
        "  \n",
        "  batches = list(range(100, len(data), batch_size))+[len(data)]\n",
        "  doc_rep_collector = []\n",
        "  for b in batches:\n",
        "      tokens = tokenizer.batch_encode_plus(data['review'][st:b], \n",
        "                                           pad_to_max_length=True, max_length=125, truncation=True, \n",
        "                                           return_tensors=\"pt\")\n",
        "      st = b\n",
        "      tokens = tokens.to(device)\n",
        "      model.to(device)\n",
        "      outputs = model(**tokens)\n",
        "      # taking the representation of the 'CLS' token (doc-level embedding)\n",
        "      doc_rep_collector.append(outputs[0][:,0].detach().cpu().numpy())\n",
        "  doc_rep_collector = np.concatenate(doc_rep_collector)\n",
        "  return doc_rep_collector"
      ],
      "execution_count": null,
      "outputs": []
    },
    {
      "cell_type": "code",
      "metadata": {
        "colab_type": "code",
        "id": "FxmWycz7gMSq",
        "colab": {
          "base_uri": "https://localhost:8080/",
          "height": 35
        },
        "outputId": "76f1d505-de33-4b6c-9056-9022af43b024"
      },
      "source": [
        "# import gc\n",
        "# del train_data, test_data, data, data_subset\n",
        "# gc.collect()"
      ],
      "execution_count": null,
      "outputs": [
        {
          "output_type": "execute_result",
          "data": {
            "text/plain": [
              "381"
            ]
          },
          "metadata": {
            "tags": []
          },
          "execution_count": 28
        }
      ]
    },
    {
      "cell_type": "code",
      "metadata": {
        "colab_type": "code",
        "id": "iIzDmdk_QsZo",
        "collapsed": true,
        "colab": {
          "base_uri": "https://localhost:8080/",
          "height": 72
        },
        "outputId": "09218b52-e45a-4653-d53f-f4907c529a84"
      },
      "source": [
        "biobert_train = biobert_embedding_doc_level(train)\n",
        "biobert_val = biobert_embedding_doc_level(val)\n",
        "biobert_test = biobert_embedding_doc_level(test)\n",
        "\n",
        "print(biobert_train.shape)\n",
        "print(biobert_val.shape)\n",
        "print(biobert_test.shape)"
      ],
      "execution_count": null,
      "outputs": [
        {
          "output_type": "stream",
          "text": [
            "(8965, 768)\n",
            "(3841, 768)\n",
            "(3159, 768)\n"
          ],
          "name": "stdout"
        }
      ]
    },
    {
      "cell_type": "code",
      "metadata": {
        "id": "juX9fSimx69o",
        "colab_type": "code",
        "colab": {}
      },
      "source": [
        "# Save the vectors for future use\n",
        "np.save('biobert_train_maxlen_125', biobert_train)\n",
        "np.save('biobert_val_maxlen_125', biobert_val)\n",
        "np.save('biobert_test_maxlen_125', biobert_test)"
      ],
      "execution_count": null,
      "outputs": []
    },
    {
      "cell_type": "code",
      "metadata": {
        "colab_type": "code",
        "id": "1NUo5zbThcxV",
        "colab": {
          "base_uri": "https://localhost:8080/",
          "height": 35
        },
        "outputId": "31271b99-545e-4917-828b-0a88772162e8"
      },
      "source": [
        "# Delete the created variables to save GPU\n",
        "import gc\n",
        "del biobert_embedding_doc_level, model, tokenizer\n",
        "gc.collect()"
      ],
      "execution_count": null,
      "outputs": [
        {
          "output_type": "execute_result",
          "data": {
            "text/plain": [
              "553"
            ]
          },
          "metadata": {
            "tags": []
          },
          "execution_count": 41
        }
      ]
    },
    {
      "cell_type": "code",
      "metadata": {
        "id": "q61JGUwTvwLa",
        "colab_type": "code",
        "colab": {
          "base_uri": "https://localhost:8080/",
          "height": 145
        },
        "outputId": "2501d22a-f30b-4aeb-816d-75b73656ed0e"
      },
      "source": [
        "# Check available RAM\n",
        "torch.cuda.memory_summary(device=device, abbreviated=True)"
      ],
      "execution_count": null,
      "outputs": [
        {
          "output_type": "execute_result",
          "data": {
            "application/vnd.google.colaboratory.intrinsic+json": {
              "type": "string"
            },
            "text/plain": [
              "'|===========================================================================|\\n|                  PyTorch CUDA memory summary, device ID 0                 |\\n|---------------------------------------------------------------------------|\\n|            CUDA OOMs: 0            |        cudaMalloc retries: 0         |\\n|===========================================================================|\\n|        Metric         | Cur Usage  | Peak Usage | Tot Alloc  | Tot Freed  |\\n|---------------------------------------------------------------------------|\\n| Allocated memory      |       0 B  |    9338 MB |    2148 GB |    2148 GB |\\n|---------------------------------------------------------------------------|\\n| Active memory         |       0 B  |    9338 MB |    2148 GB |    2148 GB |\\n|---------------------------------------------------------------------------|\\n| GPU reserved memory   |    9628 MB |    9628 MB |    9628 MB |       0 B  |\\n|---------------------------------------------------------------------------|\\n| Non-releasable memory |       0 B  |    3588 MB |    2591 GB |    2591 GB |\\n|---------------------------------------------------------------------------|\\n| Allocations           |       0    |     602    |    4778 K  |    4778 K  |\\n|---------------------------------------------------------------------------|\\n| Active allocs         |       0    |     602    |    4778 K  |    4778 K  |\\n|---------------------------------------------------------------------------|\\n| GPU reserved segments |     227    |     227    |     227    |       0    |\\n|---------------------------------------------------------------------------|\\n| Non-releasable allocs |       0    |     156    |    2765 K  |    2765 K  |\\n|===========================================================================|\\n'"
            ]
          },
          "metadata": {
            "tags": []
          },
          "execution_count": 42
        }
      ]
    },
    {
      "cell_type": "markdown",
      "metadata": {
        "id": "pVhTI-5Z01yl",
        "colab_type": "text"
      },
      "source": [
        "## Load pre-trained Glove, BERT and BioBERT vectors\n",
        "\n",
        "### NOTE: These files were created by **us** after training the models on our dataset. This is to avoid running above models every time to obtain the vectors."
      ]
    },
    {
      "cell_type": "markdown",
      "metadata": {
        "id": "TbSxEat8LP3g",
        "colab_type": "text"
      },
      "source": [
        "Load these only if running in the whole dataset!"
      ]
    },
    {
      "cell_type": "code",
      "metadata": {
        "id": "z_Vfce7dIwQg",
        "colab_type": "code",
        "colab": {}
      },
      "source": [
        "# glove_train = pd.read_pickle(file_path+'glove_train.pkl')\n",
        "# glove_val = pd.read_pickle(file_path+'glove_val.pkl')\n",
        "# glove_test = pd.read_pickle(file_path+'glove_test.pkl')"
      ],
      "execution_count": null,
      "outputs": []
    },
    {
      "cell_type": "code",
      "metadata": {
        "id": "phG_HbSN05Yr",
        "colab_type": "code",
        "colab": {}
      },
      "source": [
        "# bert_train = np.load(file_path+'bert_train_maxlen_200.npy')\n",
        "# bert_val = np.load(file_path+'bert_val_maxlen_200.npy')\n",
        "# bert_test = np.load(file_path+'bert_test_maxlen_200.npy')"
      ],
      "execution_count": null,
      "outputs": []
    },
    {
      "cell_type": "code",
      "metadata": {
        "id": "q_7B373W053Z",
        "colab_type": "code",
        "colab": {}
      },
      "source": [
        "# biobert_train = np.load(file_path+'biobert_train_maxlen_125.npy')\n",
        "# biobert_val = np.load(file_path+'biobert_val_maxlen_125.npy')\n",
        "# biobert_test = np.load(file_path+'biobert_test_maxlen_125.npy')"
      ],
      "execution_count": null,
      "outputs": []
    },
    {
      "cell_type": "markdown",
      "metadata": {
        "id": "4m9j6vtQ_cfV",
        "colab_type": "text"
      },
      "source": [
        "## Sentiment Classification (EDIT)\n",
        "\n",
        "Steps involved in classification are as follows:\n",
        "\n",
        "1. Adding and Removing stopwords from the default stopwords list:\n",
        "2. Handle the imbalance in the class labels.\n",
        "3. Choose between spaCy's base English model and scispaCy's model.\n",
        "4. Classification using Linear SVC, RBF SVC and Gaussian Naive Bayes (with train and validation data only)\n",
        "\n",
        "Note: We implemented the above steps for all the types in embedding methods that we have done so far.\n",
        "\n",
        "Finally, we run **only** the best model on the test data set to obtain the final accuracy."
      ]
    },
    {
      "cell_type": "markdown",
      "metadata": {
        "id": "GQx8Nbu3BUUM",
        "colab_type": "text"
      },
      "source": [
        "### Classifier Function"
      ]
    },
    {
      "cell_type": "code",
      "metadata": {
        "id": "YcAqP0Ivw69I",
        "colab_type": "code",
        "colab": {}
      },
      "source": [
        "# Function to implement SVC and return desired metrics\n",
        "def classifier_function(X_train, X_test, \n",
        "                        y_train = train[\"sentiment\"], y_test=val[\"sentiment\"], \n",
        "                        model_name=SVC, kernel='linear', weights='balanced',\n",
        "                        confusionMatrix=False, prob=False):\n",
        "  if model_name == SVC:\n",
        "    model = model_name(kernel=kernel, class_weight=weights, probability=prob)\n",
        "  else:\n",
        "    model = model_name()\n",
        "  model.fit(X_train, y_train)\n",
        "  train_preds = model.predict(X_train)\n",
        "  test_preds = model.predict(X_test)\n",
        "\n",
        "  # scoring accuracy\n",
        "  print('Train accuracy :              ', round(accuracy_score(y_train, train_preds), 3))\n",
        "  print('Validation accuracy :         ', round(accuracy_score(y_test, test_preds), 3))\n",
        "  \n",
        "  #Confusion matrix, Accuracy, sensitivity and specificity\n",
        "  cm = confusion_matrix(y_test, test_preds)\n",
        "\n",
        "  FP = cm[1,0]\n",
        "  FN = cm[0,1]\n",
        "  TP = cm[0,0]\n",
        "  TN = cm[1,1]\n",
        "\n",
        "  # Sensitivity, hit rate, recall, or true positive rate\n",
        "  TPR = TP/(TP+FN)\n",
        "  print(\"Sensitivity :                 \", round(TPR, 3))\n",
        "  # Specificity or true negative rate\n",
        "  TNR = TN/(TN+FP) \n",
        "  print(\"Specificity :                 \", round(TNR, 3))\n",
        "  print('\\n')\n",
        "\n",
        "  if confusionMatrix:\n",
        "    print('Confusion Matrix : \\n', cm, '\\n')\n",
        "    # Precision or positive predictive value\n",
        "    PPV = TP/(TP+FP)\n",
        "    print(\"Precision :                   \", round(PPV, 3))\n",
        "    # Negative predictive value\n",
        "    NPV = TN/(TN+FN)\n",
        "    print(\"Negative Predictive Value :   \", round(NPV, 3))\n",
        "    # Fall out or false positive rate\n",
        "    FPR = FP/(FP+TN)\n",
        "    print(\"False Positive Rate :         \", round(FPR, 3))\n",
        "    # False negative rate\n",
        "    FNR = FN/(TP+FN)\n",
        "    print(\"False Negative Rate :         \", round(FNR, 3))\n",
        "    # False discovery rate\n",
        "    FDR = FP/(TP+FP)\n",
        "    print(\"False Discovery Rate :        \", round(FDR, 3))\n",
        "    # Overall accuracy\n",
        "    ACC = (TP+TN)/(TP+FP+FN+TN)\n",
        "    print(\"Overall Accuracy :            \", round(ACC, 3))\n",
        "  return model"
      ],
      "execution_count": null,
      "outputs": []
    },
    {
      "cell_type": "markdown",
      "metadata": {
        "id": "NYBsBShX_j-i",
        "colab_type": "text"
      },
      "source": [
        "### Adding and Removing Stopwords"
      ]
    },
    {
      "cell_type": "markdown",
      "metadata": {
        "id": "ymHQZyRNtgxm",
        "colab_type": "text"
      },
      "source": [
        "Though we implemented this already, it's better to make sure we haven't missed it as this is a big step for the classification."
      ]
    },
    {
      "cell_type": "code",
      "metadata": {
        "colab_type": "code",
        "id": "K0x5dUxJoLuq",
        "colab": {}
      },
      "source": [
        "# # Facing an error with this\n",
        "\n",
        "remove_stop_words = [\"aren't\",\"couldn't\",\"didn't\",\"doesn't\",\"don't\",\n",
        "                    \"hadn't\",\"hasn't\",\"haven't\",\"isn't\",\"mightn't\",\n",
        "                    \"mustn't\",\"needn't\",\"shan't\",\n",
        "                    \"shouldn't\",\"wasn't\",\"weren't\",\"wouldn't\"]\n",
        "\n",
        "for word in remove_stop_words:\n",
        "  if en.vocab[word].is_stop:\n",
        "    en.Defaults.stop_words.remove(word)\n",
        "    en.vocab[word].is_stop = False \n",
        "\n",
        "  if nlp_sci.vocab[word].is_stop:\n",
        "    nlp_sci.Defaults.stop_words.remove(word)\n",
        "    nlp_sci.vocab[word].is_stop = False  \n"
      ],
      "execution_count": null,
      "outputs": []
    },
    {
      "cell_type": "code",
      "metadata": {
        "colab_type": "code",
        "id": "H-aO7LLToLuz",
        "colab": {}
      },
      "source": [
        "add_stop_words = [\"feel\", \"feeling\", \"feels\", \n",
        "                  \"take\", \"takes\",\"taking\", \"took\", \"taken\",\n",
        "                  \"mg\", \"effect\", \"effects\", \n",
        "                  \"like\", \"liking\", \"likes\",\n",
        "                  \"day\", \"week\", \"month\", \"year\", \"time\",\n",
        "                  \"days\", \"weeks\", \"months\", \"years\", \"times\",\n",
        "                  \"medication\", \"medicine\", \"medications\", \"medicines\",\n",
        "                  \"start\", \"starting\", \"starts\", \"started\",\n",
        "                  \"work\", \"works\", \"working\",\n",
        "                  \"go\", \"going\", \"goes\",\n",
        "                  \"blood\", \"pressure\",\n",
        "                  \"bipolar\", \"disorder\"]\n",
        "\n",
        "for word in add_stop_words:\n",
        "    if not en.vocab[word].is_stop:\n",
        "      en.Defaults.stop_words.add(word)\n",
        "      en.vocab[word].is_stop = True \n",
        "\n",
        "    if nlp_sci.vocab[word].is_stop:\n",
        "      nlp_sci.Defaults.stop_words.add(word)\n",
        "      nlp_sci.vocab[word].is_stop = True  "
      ],
      "execution_count": null,
      "outputs": []
    },
    {
      "cell_type": "markdown",
      "metadata": {
        "id": "edby_shErorX",
        "colab_type": "text"
      },
      "source": [
        "### Handle Imbalance of the Sentiment Classes\n",
        "\n",
        "Like we saw earlier in the EDA, the sentiment labels are highly imbalanced and this is something that should be taken care of to avoid any bias and give a more realistic accuracy. Also, it's more vital that the model classifies a negative review as negative, than the vice versa.  \n",
        "\n",
        "We surely do not want someone taking a drug based on a review labelled as positive when in fact it's negative. There could be a lot of bad consequences."
      ]
    },
    {
      "cell_type": "markdown",
      "metadata": {
        "id": "dGDwQKsDvpko",
        "colab_type": "text"
      },
      "source": [
        "We took just one eample to show you how we handled this issue."
      ]
    },
    {
      "cell_type": "code",
      "metadata": {
        "colab_type": "code",
        "id": "T9fvXKNIsdyN",
        "colab": {}
      },
      "source": [
        "# Fit Count Vectorizer and TF-IDF models based on the chosen tokenization strategy\n",
        "cv = CountVectorizer(tokenizer=adv_tokenizer)\n",
        "cv_train = cv.fit_transform(train[\"review\"])\n",
        "cv_val = cv.transform(val[\"review\"])"
      ],
      "execution_count": null,
      "outputs": []
    },
    {
      "cell_type": "code",
      "metadata": {
        "colab_type": "code",
        "id": "vqhbWFm9sdya",
        "colab": {
          "base_uri": "https://localhost:8080/",
          "height": 326
        },
        "outputId": "2587569f-8923-46e2-b962-32263d8d1d9d"
      },
      "source": [
        "print(\"Accuracy using Counts with Linear SVC model:\")\n",
        "cv_model_lin = classifier_function(cv_train, cv_val, weights=None, confusionMatrix=True)"
      ],
      "execution_count": null,
      "outputs": [
        {
          "output_type": "stream",
          "text": [
            "Accuracy using Counts with Linear SVC model:\n",
            "Train accuracy :               0.988\n",
            "Validation accuracy :          0.862\n",
            "Sensitivity :                  0.757\n",
            "Specificity :                  0.908\n",
            "\n",
            "\n",
            "Confusion Matrix : \n",
            " [[ 879  282]\n",
            " [ 247 2433]] \n",
            "\n",
            "Precision :                    0.781\n",
            "Negative Predictive Value :    0.896\n",
            "False Positive Rate :          0.092\n",
            "False Negative Rate :          0.243\n",
            "False Discovery Rate :         0.219\n",
            "Overall Accuracy :             0.862\n"
          ],
          "name": "stdout"
        }
      ]
    },
    {
      "cell_type": "markdown",
      "metadata": {
        "id": "K1gqgFIFwX-H",
        "colab_type": "text"
      },
      "source": [
        "As you can see, though the overall accuracy is high, the sensitivity/true negative rate is much lower than the specificity/true positive rate with a difference of 15%. This is obviously because of the imbalance. "
      ]
    },
    {
      "cell_type": "markdown",
      "metadata": {
        "id": "2XjmlPaOyZeq",
        "colab_type": "text"
      },
      "source": [
        "Like we mentioned earlier, this is not good! But fortuntely, the SVC model has a parameter called ***'class weights'*** which penalizes the majority class more than the minority class. And setting this parameter to 'balanced', the weights are chosen by the model automatically.\n",
        "\n",
        "Let's run the above model again, but with 'balanced' class weights."
      ]
    },
    {
      "cell_type": "code",
      "metadata": {
        "id": "ePUSItcgtQCq",
        "colab_type": "code",
        "colab": {
          "base_uri": "https://localhost:8080/",
          "height": 326
        },
        "outputId": "ceb17d3b-23bf-492c-e5af-d605389dedb4"
      },
      "source": [
        "print(\"Accuracy using Counts with Linear SVC model:\")\n",
        "cv_model_lin = classifier_function(cv_train, cv_val, weights='balanced', confusionMatrix=True)"
      ],
      "execution_count": null,
      "outputs": [
        {
          "output_type": "stream",
          "text": [
            "Accuracy using Counts with Linear SVC model:\n",
            "Train accuracy :               0.985\n",
            "Validation accuracy :          0.863\n",
            "Sensitivity :                  0.81\n",
            "Specificity :                  0.885\n",
            "\n",
            "\n",
            "Confusion Matrix : \n",
            " [[ 940  221]\n",
            " [ 307 2373]] \n",
            "\n",
            "Precision :                    0.754\n",
            "Negative Predictive Value :    0.915\n",
            "False Positive Rate :          0.115\n",
            "False Negative Rate :          0.19\n",
            "False Discovery Rate :         0.246\n",
            "Overall Accuracy :             0.863\n"
          ],
          "name": "stdout"
        }
      ]
    },
    {
      "cell_type": "markdown",
      "metadata": {
        "id": "cNNIaYtnyoF1",
        "colab_type": "text"
      },
      "source": [
        "Now this is much better! The true negative rate seems to still be lower than the true positive rate, but at least we can be sure that it's not because of the imbalance in the dataset. For rest of the modelling, we decided to go ahead with the class weights as balanced."
      ]
    },
    {
      "cell_type": "markdown",
      "metadata": {
        "id": "YtjtSV5D_xOc",
        "colab_type": "text"
      },
      "source": [
        "### Function to Initialize Vectors"
      ]
    },
    {
      "cell_type": "code",
      "metadata": {
        "id": "V7FB0uoq3sa2",
        "colab_type": "code",
        "colab": {}
      },
      "source": [
        "def intialize_vectorizers(spacy_model, replace_ents):\n",
        "  # Count vectorizer\n",
        "  cv = CountVectorizer(tokenizer=lambda text: adv_tokenizer(text, model=spacy_model, replace_entities=replace_ents))\n",
        "  cv_train = cv.fit_transform(train[\"review\"])\n",
        "  cv_val = cv.transform(val[\"review\"])\n",
        "\n",
        "  # TF-IDF vectorizer\n",
        "  tfidf = TfidfVectorizer(tokenizer=lambda text: adv_tokenizer(text, model=spacy_model, replace_entities=replace_ents))\n",
        "  tfidf_train = tfidf.fit_transform(train[\"review\"])\n",
        "  tfidf_val = tfidf.transform(val[\"review\"])\n",
        "\n",
        "  n_components = 4\n",
        "\n",
        "  # NMF\n",
        "  nmf = NMF(n_components=n_components)\n",
        "  nmf_train = nmf.fit_transform(tfidf_train)\n",
        "  nmf_val = nmf.transform(tfidf_val)\n",
        "\n",
        "  # LDA\n",
        "  lda = LatentDirichletAllocation(n_components=n_components)\n",
        "  lda_train = lda.fit_transform(cv_train)\n",
        "  lda_val = lda.transform(cv_val)\n",
        "\n",
        "  return cv_train, cv_val, tfidf_train, tfidf_val, nmf_train, nmf_val, lda_train, lda_val"
      ],
      "execution_count": null,
      "outputs": []
    },
    {
      "cell_type": "markdown",
      "metadata": {
        "id": "F9q_aQ0Sl-1V",
        "colab_type": "text"
      },
      "source": [
        "### Choosing Spacy Model"
      ]
    },
    {
      "cell_type": "markdown",
      "metadata": {
        "id": "VGcPiTIx1F7u",
        "colab_type": "text"
      },
      "source": [
        "We had to choose from three choices:\n",
        "\n",
        "1. spaCy's Base English model\n",
        "2. sciSpacy's Disease-Chemical interaction model without replacing entities.\n",
        "3. sciSpacy's Disease-Chemical interaction model after replacing entities.\n",
        "\n",
        "All three performed almost the same, the third one performing just a tab bit worse. But we still decided to go head with the sciSpacy's Disease-Chemical interaction model after replacing entities because replacing the entities significantly reduced the feature space to about 8000 from about 13,000 with the base english model to 8350 with not much of a drop in accuracy.\n",
        "\n",
        "Below are the results for the same running them on 4 embedding types:"
      ]
    },
    {
      "cell_type": "markdown",
      "metadata": {
        "id": "X40n2DvPlY6r",
        "colab_type": "text"
      },
      "source": [
        "Using Spacy's Base English model and Linear SVC:"
      ]
    },
    {
      "cell_type": "code",
      "metadata": {
        "id": "B4PJFbfVojHQ",
        "colab_type": "code",
        "colab": {
          "base_uri": "https://localhost:8080/",
          "height": 380
        },
        "outputId": "2e7232e1-8f22-4081-c4b5-90d255e1a376"
      },
      "source": [
        "cv_train, cv_val, tfidf_train, tfidf_val, nmf_train, nmf_val, lda_train, lda_val = intialize_vectorizers(en, replace_ents=False)\n",
        "\n",
        "# Run all above models\n",
        "print(\"Accuracy using Counts with Base English model:\")\n",
        "cv_model_en = classifier_function(cv_train, cv_val, model_name=SVC, kernel='linear')\n",
        "print(\"Accuracy using TF-IDF with Base English model:\")\n",
        "tfidf_model_en = classifier_function(tfidf_train, tfidf_val, model_name=SVC, kernel='linear')\n",
        "print(\"Accuracy using NMF with Base English model:\")\n",
        "nmf_model_en = classifier_function(nmf_train, nmf_val, model_name=SVC, kernel='linear')\n",
        "print(\"Accuracy using LDA with Base English model:\")\n",
        "lda_model_en = classifier_function(lda_train, lda_val, model_name=SVC, kernel='linear')"
      ],
      "execution_count": null,
      "outputs": [
        {
          "output_type": "stream",
          "text": [
            "Accuracy using Counts with Base English model:\n",
            "Train accuracy: 0.985145739910314\n",
            "Validation accuracy: 0.8498978897208985\n",
            "\n",
            "\n",
            "Accuracy using TF-IDF with Base English model:\n",
            "Train accuracy: 0.9331558295964125\n",
            "Validation accuracy: 0.8464942137508509\n",
            "\n",
            "\n",
            "Accuracy using NMF with Base English model:\n",
            "Train accuracy: 0.703335201793722\n",
            "Validation accuracy: 0.7066031313818925\n",
            "\n",
            "\n",
            "Accuracy using LDA with Base English model:\n",
            "Train accuracy: 0.703335201793722\n",
            "Validation accuracy: 0.7066031313818925\n",
            "\n",
            "\n"
          ],
          "name": "stdout"
        }
      ]
    },
    {
      "cell_type": "markdown",
      "metadata": {
        "id": "-QKdJ9nNldvg",
        "colab_type": "text"
      },
      "source": [
        "Using Scispacy model with entities:"
      ]
    },
    {
      "cell_type": "code",
      "metadata": {
        "id": "9tZLC8Iwyfrp",
        "colab_type": "code",
        "colab": {
          "base_uri": "https://localhost:8080/",
          "height": 380
        },
        "outputId": "ed57a997-7e77-446d-c6d0-ee9d29eae07d"
      },
      "source": [
        "cv_train, cv_val, tfidf_train, tfidf_val, nmf_train, nmf_val, lda_train, lda_val = intialize_vectorizers(nlp_sci, replace_ents=False)\n",
        "\n",
        "# Run all above models\n",
        "print(\"Accuracy using Counts with ScispaCy model without replacing entities:\")\n",
        "cv_model_sci_ent = classifier_function(cv_train, cv_val, model_name=SVC, kernel='linear')\n",
        "print(\"Accuracy using TF-IDF with ScispaCy model without replacing entities:\")\n",
        "cv_model_sci_ent = classifier_function(tfidf_train, tfidf_val, model_name=SVC, kernel='linear')\n",
        "print(\"Accuracy using NMF with ScispaCy model without replacing entities:\")\n",
        "cv_model_sci_ent = classifier_function(nmf_train, nmf_val, model_name=SVC, kernel='linear')\n",
        "print(\"Accuracy using LDA with ScispaCy model without replacing entities:\")\n",
        "cv_model_sci_ent = classifier_function(lda_train, lda_val, model_name=SVC, kernel='linear')"
      ],
      "execution_count": null,
      "outputs": [
        {
          "output_type": "stream",
          "text": [
            "Accuracy using Counts with ScispaCy model without replacing entities:\n",
            "Train accuracy: 0.976457399103139\n",
            "Validation accuracy: 0.8505786249149081\n",
            "\n",
            "\n",
            "Accuracy using TF-IDF with ScispaCy model without replacing entities:\n",
            "Train accuracy: 0.9191423766816144\n",
            "Validation accuracy: 0.8498978897208985\n",
            "\n",
            "\n",
            "Accuracy using NMF with ScispaCy model without replacing entities:\n",
            "Train accuracy: 0.703335201793722\n",
            "Validation accuracy: 0.7066031313818925\n",
            "\n",
            "\n",
            "Accuracy using LDA with ScispaCy model without replacing entities:\n",
            "Train accuracy: 0.7550448430493274\n",
            "Validation accuracy: 0.7620830496936691\n",
            "\n",
            "\n"
          ],
          "name": "stdout"
        }
      ]
    },
    {
      "cell_type": "markdown",
      "metadata": {
        "colab_type": "text",
        "id": "kEB_ldkpmLTJ"
      },
      "source": [
        "Using Scispacy model replacing with entity type:"
      ]
    },
    {
      "cell_type": "code",
      "metadata": {
        "colab_type": "code",
        "id": "ptSBw9U2mLTL",
        "colab": {
          "base_uri": "https://localhost:8080/",
          "height": 380
        },
        "outputId": "611d466d-f950-42af-c627-8f750f781f1c"
      },
      "source": [
        "cv_train, cv_val, tfidf_train, tfidf_val, nmf_train, nmf_val, lda_train, lda_val = intialize_vectorizers(nlp_sci, replace_ents=True)\n",
        "\n",
        "# Run all above models\n",
        "print(\"Accuracy using Counts with ScispaCy model after replacing entities:\")\n",
        "cv_model_sci = classifier_function(cv_train, cv_val, model_name=SVC, kernel='linear')\n",
        "print(\"Accuracy using TF-IDF with ScispaCy model after replacing entities:\")\n",
        "tfidf_model_sci = classifier_function(tfidf_train, tfidf_val, model_name=SVC, kernel='linear')\n",
        "print(\"Accuracy using NMF with ScispaCy model after replacing entities:\")\n",
        "nmf_model_sci = classifier_function(nmf_train, nmf_val, model_name=SVC, kernel='linear')\n",
        "print(\"Accuracy using LDA with ScispaCy model after replacing entities:\")\n",
        "lda_model_sci = classifier_function(lda_train, lda_val, model_name=SVC, kernel='linear')"
      ],
      "execution_count": null,
      "outputs": [
        {
          "output_type": "stream",
          "text": [
            "Accuracy using Counts with ScispaCy model after replacing entities:\n",
            "Train accuracy: 0.9677690582959642\n",
            "Validation accuracy: 0.8434309053778081\n",
            "\n",
            "\n",
            "Accuracy using TF-IDF with ScispaCy model after replacing entities:\n",
            "Train accuracy: 0.9119955156950673\n",
            "Validation accuracy: 0.8519400953029271\n",
            "\n",
            "\n",
            "Accuracy using NMF with ScispaCy model after replacing entities:\n",
            "Train accuracy: 0.703335201793722\n",
            "Validation accuracy: 0.7066031313818925\n",
            "\n",
            "\n",
            "Accuracy using LDA with ScispaCy model after replacing entities:\n",
            "Train accuracy: 0.703335201793722\n",
            "Validation accuracy: 0.7066031313818925\n",
            "\n",
            "\n"
          ],
          "name": "stdout"
        }
      ]
    },
    {
      "cell_type": "markdown",
      "metadata": {
        "id": "yeXmezNhnGq_",
        "colab_type": "text"
      },
      "source": [
        "\n",
        "### Classification Models \n",
        "\n",
        "1. Linear SVC\n",
        "2. RBF SVC \n",
        "3. Naive Bayes\n",
        "\n",
        "Note: Along with the train and validation accuracy, we've mentioned the sensitivity and specificity as well."
      ]
    },
    {
      "cell_type": "code",
      "metadata": {
        "id": "TAtsBlqjEOB9",
        "colab_type": "code",
        "collapsed": true,
        "colab": {
          "base_uri": "https://localhost:8080/",
          "height": 907
        },
        "outputId": "df3c1536-fd43-48c7-845c-050c823dbb4a"
      },
      "source": [
        "# Initialize the counts and topic models\n",
        "cv_train, cv_val, tfidf_train, tfidf_val, nmf_train, nmf_val, lda_train, lda_val = intialize_vectorizers(nlp_sci, replace_ents=True)\n",
        "\n",
        "# Run all above models using Linear SVC\n",
        "\n",
        "print(\"Accuracy using Counts with Linear SVC model:\")\n",
        "cv_model_lin = classifier_function(cv_train, cv_val, model_name=SVC, kernel='linear')\n",
        "\n",
        "print(\"Accuracy using TF-IDF with Linear SVC model:\")\n",
        "tfidf_model_lin = classifier_function(tfidf_train, tfidf_val, model_name=SVC, kernel='linear')\n",
        "\n",
        "print(\"Accuracy using NMF with Linear SVC model:\")\n",
        "nmf_model_lin = classifier_function(nmf_train, nmf_val, model_name=SVC, kernel='linear')\n",
        "\n",
        "print(\"Accuracy using LDA with Linear SVC model:\")\n",
        "lda_model_lin = classifier_function(lda_train, lda_val, model_name=SVC, kernel='linear')\n",
        "\n",
        "print(\"Accuracy using GloVe with Linear SVC model:\")\n",
        "glove_model_lin = classifier_function(glove_train, glove_val, model_name=SVC, kernel='linear')\n",
        "\n",
        "# SVC using DistilBERT vectors\n",
        "print(\"Accuracy using DistlBERT with Linear SVC model:\")\n",
        "distilbert_model_lin = classifier_function(bert_train, bert_val, model_name=SVC, kernel='linear')\n",
        "\n",
        "# SVC using BioBERT vectors\n",
        "print(\"Accuracy using BioBERT with Linear SVC model:\")\n",
        "biobert_model_lin = classifier_function(biobert_train, biobert_val, model_name=SVC, kernel='linear')"
      ],
      "execution_count": null,
      "outputs": [
        {
          "output_type": "stream",
          "text": [
            "Accuracy using Counts with Linear SVC model:\n",
            "Train accuracy :               0.964\n",
            "Validation accuracy :          0.845\n",
            "Sensitivity :                  0.803\n",
            "Specificity :                  0.863\n",
            "\n",
            "\n",
            "Accuracy using TF-IDF with Linear SVC model:\n",
            "Train accuracy :               0.904\n",
            "Validation accuracy :          0.816\n",
            "Sensitivity :                  0.778\n",
            "Specificity :                  0.833\n",
            "\n",
            "\n",
            "Accuracy using NMF with Linear SVC model:\n",
            "Train accuracy :               0.633\n",
            "Validation accuracy :          0.628\n",
            "Sensitivity :                  0.596\n",
            "Specificity :                  0.641\n",
            "\n",
            "\n",
            "Accuracy using LDA with Linear SVC model:\n",
            "Train accuracy :               0.496\n",
            "Validation accuracy :          0.487\n",
            "Sensitivity :                  0.773\n",
            "Specificity :                  0.363\n",
            "\n",
            "\n",
            "Accuracy using GloVe with Linear SVC model:\n",
            "Train accuracy :               0.704\n",
            "Validation accuracy :          0.702\n",
            "Sensitivity :                  0.025\n",
            "Specificity :                  0.996\n",
            "\n",
            "\n",
            "Accuracy using DistlBERT with Linear SVC model:\n",
            "Train accuracy :               0.854\n",
            "Validation accuracy :          0.829\n",
            "Sensitivity :                  0.825\n",
            "Specificity :                  0.831\n",
            "\n",
            "\n",
            "Accuracy using BioBERT with Linear SVC model:\n",
            "Train accuracy :               0.839\n",
            "Validation accuracy :          0.807\n",
            "Sensitivity :                  0.798\n",
            "Specificity :                  0.811\n",
            "\n",
            "\n"
          ],
          "name": "stdout"
        }
      ]
    },
    {
      "cell_type": "markdown",
      "metadata": {
        "id": "VMZmq2onNOPj",
        "colab_type": "text"
      },
      "source": [
        "Counts and TF-IDF have performed pretty well with Counts having a validation accuracy of 86% but there seems to be quite a bit of over fitting, which we could expect because of the high dimensions.\n",
        "\n",
        "Both NMF and LDA perform really poorliy with LDA having a validation accuracy of 48%!\n",
        "\n",
        "GolVe seems to have a decent accuracy, but that's because it just labels everything as positive. Clearly GloVe does not seem to be able to distinguish between positive and negative reviews. \n",
        "\n",
        "DistilBERT and BioBERT seem to have comparable accuracies, with DistilBERT's being a little higher. We expected it to be the other way around but this could be becaus of the higher truncation we had to do for BioBERT. If they were trained on the same configurations, BioBERT could have actually performed better!\n",
        "\n",
        "Also, BERT and BioBERT seem to have overfit very minimally!!\n",
        "\n"
      ]
    },
    {
      "cell_type": "markdown",
      "metadata": {
        "id": "U4mizhXznTLB",
        "colab_type": "text"
      },
      "source": [
        "Radial Basis Function SVC:"
      ]
    },
    {
      "cell_type": "code",
      "metadata": {
        "id": "teFvhN7B5aMf",
        "colab_type": "code",
        "collapsed": true,
        "colab": {
          "base_uri": "https://localhost:8080/",
          "height": 907
        },
        "outputId": "bb9b4ed0-08fe-4128-bc22-8f8635a11534"
      },
      "source": [
        "# Run all above models using RBF SVC\n",
        "\n",
        "print(\"Accuracy using Counts with RBF SVC model:\")\n",
        "cv_model_rbf = classifier_function(cv_train, cv_val, model_name=SVC, kernel='rbf')\n",
        "\n",
        "print(\"Accuracy using TF-IDF with RBF SVC model:\")\n",
        "tfidf_model_rbf = classifier_function(tfidf_train, tfidf_val, model_name=SVC, kernel='rbf')\n",
        "\n",
        "print(\"Accuracy using NMF with RBF SVC model:\")\n",
        "nmf_model_rbf = classifier_function(nmf_train, nmf_val, model_name=SVC, kernel='rbf')\n",
        "\n",
        "print(\"Accuracy using LDA with RBF SVC model:\")\n",
        "lda_model_rbf = classifier_function(lda_train, lda_val, model_name=SVC, kernel='rbf')\n",
        "\n",
        "print(\"Accuracy using GloVe with RBF SVC model:\")\n",
        "glove_model_rbf = classifier_function(glove_train, glove_val, model_name=SVC, kernel='rbf')\n",
        "\n",
        "# SVC using DistilBERT vectors\n",
        "print(\"Accuracy using DistlBERT with RBF SVC model:\")\n",
        "distilbert_model_rbf = classifier_function(bert_train, bert_val, model_name=SVC, kernel='rbf')\n",
        "\n",
        "# SVC using BioBERT vectors\n",
        "print(\"Accuracy using BioBERT with RBF SVC model:\")\n",
        "biobert_model_rbf = classifier_function(biobert_train, biobert_val, model_name=SVC, kernel='rbf')"
      ],
      "execution_count": null,
      "outputs": [
        {
          "output_type": "stream",
          "text": [
            "Accuracy using Counts with RBF SVC model:\n",
            "Train accuracy :               0.934\n",
            "Validation accuracy :          0.852\n",
            "Sensitivity :                  0.82\n",
            "Specificity :                  0.866\n",
            "\n",
            "\n",
            "Accuracy using TF-IDF with RBF SVC model:\n",
            "Train accuracy :               0.986\n",
            "Validation accuracy :          0.88\n",
            "Sensitivity :                  0.801\n",
            "Specificity :                  0.915\n",
            "\n",
            "\n",
            "Accuracy using NMF with RBF SVC model:\n",
            "Train accuracy :               0.646\n",
            "Validation accuracy :          0.637\n",
            "Sensitivity :                  0.594\n",
            "Specificity :                  0.656\n",
            "\n",
            "\n",
            "Accuracy using LDA with RBF SVC model:\n",
            "Train accuracy :               0.618\n",
            "Validation accuracy :          0.609\n",
            "Sensitivity :                  0.592\n",
            "Specificity :                  0.616\n",
            "\n",
            "\n",
            "Accuracy using GloVe with RBF SVC model:\n",
            "Train accuracy :               0.733\n",
            "Validation accuracy :          0.692\n",
            "Sensitivity :                  0.439\n",
            "Specificity :                  0.802\n",
            "\n",
            "\n",
            "Accuracy using DistlBERT with RBF SVC model:\n",
            "Train accuracy :               0.81\n",
            "Validation accuracy :          0.806\n",
            "Sensitivity :                  0.78\n",
            "Specificity :                  0.817\n",
            "\n",
            "\n",
            "Accuracy using BioBERT with RBF SVC model:\n",
            "Train accuracy :               0.798\n",
            "Validation accuracy :          0.788\n",
            "Sensitivity :                  0.773\n",
            "Specificity :                  0.794\n",
            "\n",
            "\n"
          ],
          "name": "stdout"
        }
      ]
    },
    {
      "cell_type": "markdown",
      "metadata": {
        "id": "vb_UEo0TPlJY",
        "colab_type": "text"
      },
      "source": [
        "The results are almost similar except that TF-IDF and GloVe seem to have done a better job than last time!\n",
        "\n",
        "But TF-IDF is still overfitting and GloVe still has a low sensitivity.\n",
        "\n",
        "The accracies of DistilBERT and BioBERT seem to have deacreased a bit, suggesting that the relationship between the independent and dependent variables is more linear. Also, there is litereally no overfitting!"
      ]
    },
    {
      "cell_type": "markdown",
      "metadata": {
        "id": "4n5xu3mZnXun",
        "colab_type": "text"
      },
      "source": [
        "Gassian Naive Bayes:"
      ]
    },
    {
      "cell_type": "code",
      "metadata": {
        "id": "mvzxlJlYnErl",
        "colab_type": "code",
        "collapsed": true,
        "colab": {
          "base_uri": "https://localhost:8080/",
          "height": 907
        },
        "outputId": "499dca65-f59f-4f54-b12c-3e4e58921f49"
      },
      "source": [
        "# Run all above models with Gaussian NB\n",
        "\n",
        "print(\"Accuracy using Counts with Gaussian NB model:\")\n",
        "cv_model_nb = classifier_function(cv_train.toarray(), cv_val.toarray(), model_name=GaussianNB)\n",
        "\n",
        "print(\"Accuracy using TF-IDF with Gaussian NB model:\")\n",
        "tfidf_model_nb = classifier_function(tfidf_train.toarray(), tfidf_val.toarray(), model_name=GaussianNB)\n",
        "\n",
        "print(\"Accuracy using NMF with Gaussian NB model:\")\n",
        "nmf_model_nb = classifier_function(nmf_train, nmf_val, model_name=GaussianNB)\n",
        "\n",
        "print(\"Accuracy using LDA with Gaussian NB model:\")\n",
        "lda_model_nb = classifier_function(lda_train, lda_val, model_name=GaussianNB)\n",
        "\n",
        "print(\"Accuracy using GloVe with Gaussian NB model:\")\n",
        "glove_model_nb = classifier_function(glove_train, glove_val, model_name=GaussianNB)\n",
        "\n",
        "# SVC using DistilBERT vectors\n",
        "print(\"Accuracy using DistlBERT with Gaussian NB model:\")\n",
        "distilbert_model_nb = classifier_function(bert_train, bert_val, model_name=GaussianNB)\n",
        "\n",
        "# SVC using BioBERT vectors\n",
        "print(\"Accuracy using BioBERT with Gaussian NB model:\")\n",
        "biobert_model_nb = classifier_function(biobert_train, biobert_val, model_name=GaussianNB)"
      ],
      "execution_count": null,
      "outputs": [
        {
          "output_type": "stream",
          "text": [
            "Accuracy using Counts with Gaussian NB model:\n",
            "Train accuracy :               0.699\n",
            "Validation accuracy :          0.582\n",
            "Sensitivity :                  0.848\n",
            "Specificity :                  0.466\n",
            "\n",
            "\n",
            "Accuracy using TF-IDF with Gaussian NB model:\n",
            "Train accuracy :               0.699\n",
            "Validation accuracy :          0.583\n",
            "Sensitivity :                  0.843\n",
            "Specificity :                  0.471\n",
            "\n",
            "\n",
            "Accuracy using NMF with Gaussian NB model:\n",
            "Train accuracy :               0.704\n",
            "Validation accuracy :          0.69\n",
            "Sensitivity :                  0.197\n",
            "Specificity :                  0.903\n",
            "\n",
            "\n",
            "Accuracy using LDA with Gaussian NB model:\n",
            "Train accuracy :               0.668\n",
            "Validation accuracy :          0.666\n",
            "Sensitivity :                  0.188\n",
            "Specificity :                  0.874\n",
            "\n",
            "\n",
            "Accuracy using GloVe with Gaussian NB model:\n",
            "Train accuracy :               0.683\n",
            "Validation accuracy :          0.681\n",
            "Sensitivity :                  0.156\n",
            "Specificity :                  0.908\n",
            "\n",
            "\n",
            "Accuracy using DistlBERT with Gaussian NB model:\n",
            "Train accuracy :               0.749\n",
            "Validation accuracy :          0.756\n",
            "Sensitivity :                  0.684\n",
            "Specificity :                  0.787\n",
            "\n",
            "\n",
            "Accuracy using BioBERT with Gaussian NB model:\n",
            "Train accuracy :               0.747\n",
            "Validation accuracy :          0.741\n",
            "Sensitivity :                  0.663\n",
            "Specificity :                  0.775\n",
            "\n",
            "\n"
          ],
          "name": "stdout"
        }
      ]
    },
    {
      "cell_type": "markdown",
      "metadata": {
        "id": "5quLJflPQmBx",
        "colab_type": "text"
      },
      "source": [
        "The results are far worse than the above two models. This could be attributed to the imbalance in classes and Naive Bayes is not the best suited when you have such issues.\n",
        "\n",
        "One thing to note is that in this case, NMF, LDA and GLoVe have performed almost the same with a very low sensitivity."
      ]
    },
    {
      "cell_type": "markdown",
      "metadata": {
        "id": "EEQympLEGyiY",
        "colab_type": "text"
      },
      "source": [
        "### Final Test Accuracy of the Best Model"
      ]
    },
    {
      "cell_type": "markdown",
      "metadata": {
        "id": "y21QC-glRAw_",
        "colab_type": "text"
      },
      "source": [
        "Based on the above results, it mainly comes down to:\n",
        "1. Counts with Linear SVC \n",
        "2. TFIDF with RBF SVC\n",
        "3. DistilBERT with Linear SVC\n",
        "4. DistlBERT with RBF SVC model\n",
        "\n",
        "The first two perform well on the train set but seem to overfit because of the lower validation accuracy.\n",
        "\n",
        "DistlBERT with the RBF SVC model does not produce great results but does not overfit.\n",
        "\n",
        "But, we decided to go with the DistilBERT model with Linear SVC because it gives pretty good results with very little overfitting."
      ]
    },
    {
      "cell_type": "code",
      "metadata": {
        "id": "F0Ue0ecMZNy-",
        "colab_type": "code",
        "colab": {
          "base_uri": "https://localhost:8080/",
          "height": 144
        },
        "outputId": "87bd5be5-9724-46e6-9c0c-fc2c39d56817"
      },
      "source": [
        "# SVC using DistilBERT vectors\n",
        "print(\"Accuracy using DistlBERT with Linear SVC model:\")\n",
        "distilbert_model_lin = classifier_function(bert_train, bert_val, model_name=SVC, kernel='linear', prob=True)"
      ],
      "execution_count": null,
      "outputs": [
        {
          "output_type": "stream",
          "text": [
            "Accuracy using DistlBERT with Linear SVC model:\n",
            "Train accuracy :               0.854\n",
            "Validation accuracy :          0.829\n",
            "Sensitivity :                  0.825\n",
            "Specificity :                  0.831\n",
            "\n",
            "\n"
          ],
          "name": "stdout"
        }
      ]
    },
    {
      "cell_type": "code",
      "metadata": {
        "id": "lTIwXi07HJEb",
        "colab_type": "code",
        "colab": {
          "base_uri": "https://localhost:8080/",
          "height": 72
        },
        "outputId": "727e3b6e-f3ff-4daa-c615-3170e36a1263"
      },
      "source": [
        "model = distilbert_model_lin\n",
        "X_test = bert_test\n",
        "y_test = test[\"sentiment\"]\n",
        "\n",
        "test_preds = model.predict(X_test)\n",
        "\n",
        "print('Test Accuracy :   ', round(accuracy_score(y_test, test_preds), 3))\n",
        "\n",
        "#Confusion matrix, Accuracy, sensitivity and specificity\n",
        "cm_test = confusion_matrix(y_test, test_preds)\n",
        "\n",
        "FP = cm_test[1,0]\n",
        "FN = cm_test[0,1]\n",
        "TP = cm_test[0,0]\n",
        "TN = cm_test[1,1]\n",
        "\n",
        "# Sensitivity, hit rate, recall, or true positive rate\n",
        "TPR = TP/(TP+FN)\n",
        "print(\"Sensitivity :     \", round(TPR, 3))\n",
        "# Specificity or true negative rate\n",
        "TNR = TN/(TN+FP) \n",
        "print(\"Specificity :     \", round(TNR, 3))"
      ],
      "execution_count": null,
      "outputs": [
        {
          "output_type": "stream",
          "text": [
            "Test Accuracy:    0.812\n",
            "Sensitivity :     0.8\n",
            "Specificity :     0.817\n"
          ],
          "name": "stdout"
        }
      ]
    },
    {
      "cell_type": "code",
      "metadata": {
        "id": "HdRwFEX7My3i",
        "colab_type": "code",
        "colab": {}
      },
      "source": [
        "# pickle.dump(distilbert_model_lin, open('model.pkl', 'wb'))"
      ],
      "execution_count": null,
      "outputs": []
    },
    {
      "cell_type": "markdown",
      "metadata": {
        "id": "Cir5o5Do_h-b",
        "colab_type": "text"
      },
      "source": [
        "## Future Work"
      ]
    },
    {
      "cell_type": "markdown",
      "metadata": {
        "id": "iMjz_PONVbAz",
        "colab_type": "text"
      },
      "source": [
        "1. Try using more advanced embedding techniques like RoBERTa or XLNet .\n",
        "2. At first, we wanted to try the LSTM model for classification so we could give that a run.\n",
        "3. Use different strategies for extracting important characteristics of each drug."
      ]
    }
  ]
}